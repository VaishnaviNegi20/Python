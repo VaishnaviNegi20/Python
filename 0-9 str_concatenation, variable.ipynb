{
 "cells": [
  {
   "cell_type": "markdown",
   "id": "cbeb1308",
   "metadata": {},
   "source": [
    "\n",
    "# Naming of Identifiers(variable names)\n",
    "    Python Class names start with an uppercase letter. All other identifiers start with a lowercase letter.\n",
    "\n",
    "    Starting an identifier with a single leading underscore indicates that the identifier is private identifier.\n",
    "\n",
    "    Starting an identifier with two leading underscores indicates a strongly private identifier.\n",
    "\n",
    "    If the identifier also ends with two trailing underscores, the identifier is a language-defined special name.\n"
   ]
  },
  {
   "cell_type": "code",
   "execution_count": 3,
   "id": "765ba219",
   "metadata": {
    "scrolled": true
   },
   "outputs": [
    {
     "name": "stdout",
     "output_type": "stream",
     "text": [
      "first program - Python print function\n",
      "it is declared like this :\n",
      "print('what to print')\n"
     ]
    }
   ],
   "source": [
    "# lec 5 exercise 1\n",
    "print(\"first program - Python print function\")\n",
    "print(\"it is declared like this :\")\n",
    "print(\"print('what to print')\")"
   ]
  },
  {
   "cell_type": "code",
   "execution_count": 7,
   "id": "6b5cdf5a",
   "metadata": {},
   "outputs": [
    {
     "name": "stdout",
     "output_type": "stream",
     "text": [
      "hello world\n",
      "hello world\n",
      "hellojenny\n",
      "hello jenny\n",
      "hello jenny\n",
      "hello jenny\n"
     ]
    }
   ],
   "source": [
    "#lec 6 string concatenation\n",
    "print(\"hello world\\nhello world\")\n",
    "print(\"hello\" + \"jenny\")\n",
    "print(\"hello \" + \"jenny\")\n",
    "print(\"hello\" + \" jenny\")\n",
    "print(\"hello\" + \" \" + \"jenny\")\n"
   ]
  },
  {
   "cell_type": "code",
   "execution_count": 8,
   "id": "838d9fe0",
   "metadata": {},
   "outputs": [
    {
     "name": "stdout",
     "output_type": "stream",
     "text": [
      "String manipulation exercise\n",
      "String Concatenation is done with \"+\" sign\n",
      "e.g. print(\"hello\"+\"jenny\")\n",
      "New lines can be created with a backslash and n\n"
     ]
    }
   ],
   "source": [
    "#exercise\n",
    "print('String manipulation exercise\\nString Concatenation is done with \"+\" sign\\ne.g. print(\"hello\"+\"jenny\")\\nNew lines can be created with a backslash and n' )"
   ]
  },
  {
   "cell_type": "code",
   "execution_count": 9,
   "id": "69a17a81",
   "metadata": {},
   "outputs": [
    {
     "name": "stdout",
     "output_type": "stream",
     "text": [
      "what is your name?\n",
      "v\n",
      "Hello v\n"
     ]
    }
   ],
   "source": [
    "#lec 7 input function\n",
    "#by default input function gives output as a string\n",
    "print(\"Hello\" + \" \" + input(\"what is your name?\\n\"))"
   ]
  },
  {
   "cell_type": "code",
   "execution_count": 20,
   "id": "7d2b3128",
   "metadata": {},
   "outputs": [
    {
     "name": "stdout",
     "output_type": "stream",
     "text": [
      "what is your name? v\n",
      "hey v, how are you?\n"
     ]
    }
   ],
   "source": [
    "#exercise\n",
    "print(\"hey \" + input(\"what is your name? \") +\", how are you?\")"
   ]
  },
  {
   "cell_type": "code",
   "execution_count": 21,
   "id": "2bb10c2f",
   "metadata": {},
   "outputs": [
    {
     "name": "stdout",
     "output_type": "stream",
     "text": [
      "what is your name? vaishnavi\n",
      "length of the name is  9\n"
     ]
    }
   ],
   "source": [
    "# lec 8 python variables \n",
    "name = input(\"what is your name? \")\n",
    "length = len(name)\n",
    "print(\"length of the name is \", length)"
   ]
  },
  {
   "cell_type": "code",
   "execution_count": 28,
   "id": "fc8c0906",
   "metadata": {},
   "outputs": [
    {
     "name": "stdout",
     "output_type": "stream",
     "text": [
      "enter a value of a 1\n",
      "enter a value of b 2\n",
      "a = 2\n",
      "b = 1\n",
      "enter a value of a 1\n",
      "enter a value of b 2\n",
      "a =  2\n",
      "b =  1\n"
     ]
    }
   ],
   "source": [
    "#lec 9 exercise\n",
    "#swap 2 numbers\n",
    "\n",
    "#method1\n",
    "'''\n",
    "a = input(\"enter a value of a \")\n",
    "b = input(\"enter a value of b \")\n",
    "print(\"a = \",b)\n",
    "print(\"b = \",a)\n",
    "\n",
    "'''\n",
    "#method2\n",
    "a = input(\"enter a value of a \")\n",
    "b = input(\"enter a value of b \")\n",
    "c=a\n",
    "a=b\n",
    "b=c\n",
    "print(\"a = \" +a)\n",
    "print(\"b = \"+b)\n",
    "\n",
    "#method3\n",
    "a = input(\"enter a value of a \")\n",
    "b = input(\"enter a value of b \")\n",
    "c=a\n",
    "a=b\n",
    "b=c\n",
    "print(\"a = \",a)\n",
    "print(\"b = \",b)"
   ]
  },
  {
   "cell_type": "code",
   "execution_count": 31,
   "id": "ab084b54",
   "metadata": {},
   "outputs": [],
   "source": [
    " "
   ]
  },
  {
   "cell_type": "code",
   "execution_count": null,
   "id": "2e48e465",
   "metadata": {},
   "outputs": [],
   "source": []
  }
 ],
 "metadata": {
  "kernelspec": {
   "display_name": "Python 3 (ipykernel)",
   "language": "python",
   "name": "python3"
  },
  "language_info": {
   "codemirror_mode": {
    "name": "ipython",
    "version": 3
   },
   "file_extension": ".py",
   "mimetype": "text/x-python",
   "name": "python",
   "nbconvert_exporter": "python",
   "pygments_lexer": "ipython3",
   "version": "3.9.13"
  }
 },
 "nbformat": 4,
 "nbformat_minor": 5
}
