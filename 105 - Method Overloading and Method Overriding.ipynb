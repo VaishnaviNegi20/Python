{
 "cells": [
  {
   "cell_type": "markdown",
   "id": "22500b6d",
   "metadata": {},
   "source": [
    "Method Overloading \n",
    "\n",
    "Defining multiple methods with the same name but different number of arguments in a same class"
   ]
  },
  {
   "cell_type": "code",
   "execution_count": 2,
   "id": "07577ddf",
   "metadata": {},
   "outputs": [
    {
     "ename": "TypeError",
     "evalue": "Demo.add() missing 1 required positional argument: 'c'",
     "output_type": "error",
     "traceback": [
      "\u001b[1;31m---------------------------------------------------------------------------\u001b[0m",
      "\u001b[1;31mTypeError\u001b[0m                                 Traceback (most recent call last)",
      "Cell \u001b[1;32mIn[2], line 9\u001b[0m\n\u001b[0;32m      7\u001b[0m         \u001b[38;5;28;01mreturn\u001b[39;00m a\u001b[38;5;241m+\u001b[39mb\u001b[38;5;241m+\u001b[39mc\n\u001b[0;32m      8\u001b[0m d \u001b[38;5;241m=\u001b[39m Demo()\n\u001b[1;32m----> 9\u001b[0m \u001b[38;5;28mprint\u001b[39m(d\u001b[38;5;241m.\u001b[39madd(\u001b[38;5;241m2\u001b[39m,\u001b[38;5;241m3\u001b[39m))\n\u001b[0;32m     10\u001b[0m \u001b[38;5;28mprint\u001b[39m(d\u001b[38;5;241m.\u001b[39madd(\u001b[38;5;241m2\u001b[39m,\u001b[38;5;241m3\u001b[39m,\u001b[38;5;241m4\u001b[39m))\n",
      "\u001b[1;31mTypeError\u001b[0m: Demo.add() missing 1 required positional argument: 'c'"
     ]
    }
   ],
   "source": [
    "#by default, Python does not support method overloading\n",
    "\n",
    "class Demo:\n",
    "    def add(self,a,b):\n",
    "        return a+b\n",
    "    def add(self,a,b,c): #python interpreter consider the latest definition  of add that's why it's throwing an error that c is missing\n",
    "        return a+b+c\n",
    "d = Demo()\n",
    "print(d.add(2,3))\n",
    "print(d.add(2,3,4))"
   ]
  },
  {
   "cell_type": "code",
   "execution_count": 6,
   "id": "a9cc2e56",
   "metadata": {},
   "outputs": [
    {
     "name": "stdout",
     "output_type": "stream",
     "text": [
      "5\n",
      "9\n"
     ]
    }
   ],
   "source": [
    "#here we can achieve method overloading using different ways\n",
    "# 1. method overloading using default arguments\n",
    "class Demo:\n",
    "    def add(self,a,b,c=0): \n",
    "        return a+b+c\n",
    "d = Demo()\n",
    "print(d.add(2,3))\n",
    "print(d.add(2,3,4)) # 4 will overwrite the value of c=0\n",
    "\n",
    "#Although, we are defining only one method(i.e. add), but the functionality of that is same as method overloading beacuse \n",
    "#first time we are givng two armuments in add method then in second time 3 arguments in add method"
   ]
  },
  {
   "cell_type": "code",
   "execution_count": 8,
   "id": "ed24a7a7",
   "metadata": {},
   "outputs": [
    {
     "name": "stdout",
     "output_type": "stream",
     "text": [
      "5\n",
      "9\n",
      "97\n"
     ]
    }
   ],
   "source": [
    "# 2. method overloading using *args(it's a variable length argument)\n",
    "class Demo:\n",
    "    def add (self, *args):\n",
    "        total = 0\n",
    "        for i in args:\n",
    "            total+=i\n",
    "        return total\n",
    "    \n",
    "d = Demo()\n",
    "print(d.add(2,3))\n",
    "print(d.add(2,3,4))\n",
    "print(d.add(2,3,4,5,6,77))\n"
   ]
  },
  {
   "cell_type": "code",
   "execution_count": null,
   "id": "4dbaedd2",
   "metadata": {},
   "outputs": [],
   "source": []
  },
  {
   "cell_type": "markdown",
   "id": "4ca273ac",
   "metadata": {},
   "source": [
    "Method overriding\n",
    "\n",
    "There must be 2 classes for method overriding hence implemented in inheritance.\n",
    "\n",
    "In method overriding, method name and number of argumens are same but the child class have its own definition of the method which will be different from the parent class. \n",
    "\n",
    "So the difference between method overloading and method overriding is of location.\n",
    "\n",
    "In method overloading, the methods are in same class \n",
    "\n",
    "whereas\n",
    "\n",
    "In method overriding, one method is in parent class and other one in child class."
   ]
  },
  {
   "cell_type": "code",
   "execution_count": 10,
   "id": "a993a9c7",
   "metadata": {},
   "outputs": [
    {
     "name": "stdout",
     "output_type": "stream",
     "text": [
      "sleeps from 2am to 10am\n",
      "sleeps from 10pm to 5am\n",
      "sleeps from 10pm to 5am\n"
     ]
    }
   ],
   "source": [
    "class Father:\n",
    "    def sleep(self):\n",
    "        print(\"sleeps from 10pm to 5am\")\n",
    "    def eat(self):\n",
    "        print(\"father is eating\")\n",
    "        \n",
    "class Son(Father):\n",
    "    def sleep(self):\n",
    "        print(\"sleeps from 2am to 10am\")\n",
    "        super().sleep() #if you want to inherite the sleep method of Father class, you can use this\n",
    "        Father().sleep() # or if you want to inherite the sleep method of Father class, you can use this also\n",
    "        \n",
    "Ram = Son()\n",
    "Ram.sleep()"
   ]
  },
  {
   "cell_type": "code",
   "execution_count": null,
   "id": "047ae136",
   "metadata": {},
   "outputs": [],
   "source": []
  },
  {
   "cell_type": "code",
   "execution_count": null,
   "id": "0752cd90",
   "metadata": {},
   "outputs": [],
   "source": []
  },
  {
   "cell_type": "code",
   "execution_count": null,
   "id": "73e03e78",
   "metadata": {},
   "outputs": [],
   "source": []
  },
  {
   "cell_type": "code",
   "execution_count": null,
   "id": "c9fe28ec",
   "metadata": {},
   "outputs": [],
   "source": []
  }
 ],
 "metadata": {
  "kernelspec": {
   "display_name": "Python 3 (ipykernel)",
   "language": "python",
   "name": "python3"
  },
  "language_info": {
   "codemirror_mode": {
    "name": "ipython",
    "version": 3
   },
   "file_extension": ".py",
   "mimetype": "text/x-python",
   "name": "python",
   "nbconvert_exporter": "python",
   "pygments_lexer": "ipython3",
   "version": "3.11.7"
  }
 },
 "nbformat": 4,
 "nbformat_minor": 5
}
