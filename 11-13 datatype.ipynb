{
 "cells": [
  {
   "cell_type": "code",
   "execution_count": 10,
   "id": "ec5a4827",
   "metadata": {},
   "outputs": [
    {
     "name": "stdout",
     "output_type": "stream",
     "text": [
      "123 <class 'int'>\n",
      "123.5 <class 'float'>\n",
      "11 <class 'int'>\n",
      "83 <class 'int'>\n",
      "291 <class 'int'>\n",
      "420 <class 'int'>\n"
     ]
    }
   ],
   "source": [
    "# lec 11 data types in python\n",
    "'''\n",
    "python is an object oriented programming language so everything is considered as an object.\n",
    "Here datatypes are considered as classes and variable you create are called instance or objects of these classes.\n",
    "'''\n",
    "var_1 = 123\n",
    "var_2 = 123.5\n",
    "var_3 = 0b1011\n",
    "var_4 = 0o123\n",
    "var_5 = 0x123\n",
    "var_6 = 0x1a4\n",
    "\n",
    "print(var_1,type(var_1))\n",
    "print(var_2,type(var_2))\n",
    "print(var_3,type(var_3))\n",
    "print(var_4,type(var_4))\n",
    "print(var_5,type(var_5))\n",
    "print(var_6,type(var_6))"
   ]
  },
  {
   "cell_type": "code",
   "execution_count": 11,
   "id": "d755647e",
   "metadata": {},
   "outputs": [
    {
     "data": {
      "text/plain": [
       "'c'"
      ]
     },
     "execution_count": 11,
     "metadata": {},
     "output_type": "execute_result"
    }
   ],
   "source": [
    "#subscript in string \n",
    "str1 = \"computer\"\n",
    "str1[0] #[0] is called index"
   ]
  },
  {
   "cell_type": "code",
   "execution_count": 25,
   "id": "4b39433d",
   "metadata": {},
   "outputs": [
    {
     "name": "stdout",
     "output_type": "stream",
     "text": [
      " AI \"is\" be the future\n",
      "data analysts 'know' python,excel,sql and power BI\n",
      "jenny's lectures\n",
      "jenny's \"lectures\"\n",
      "jenny's \n",
      " \"lectures\"\n",
      "jenny's \\n \"lectures\"\n",
      "jenny's \\n \"lectures\"jenny's \\n \"lectures\"jenny's \\n \"lectures\"\n"
     ]
    }
   ],
   "source": [
    "#use backslash(\\) to remove/skip the special meaning of the \"\" inside \"\" or '' inside ''\n",
    "str2 = \" AI \\\"is\\\" be the future\"\n",
    "print(str2)\n",
    "str3 = 'data analysts \\'know\\' python,excel,sql and power BI'\n",
    "print(str3)\n",
    "str4 = \"jenny's lectures\"\n",
    "print(str4)\n",
    "str5 = \"jenny\\'s \\\"lectures\\\"\"\n",
    "print(str5)\n",
    "str6 = str5 = \"jenny\\'s \\n \\\"lectures\\\"\"\n",
    "print(str6)\n",
    "str6 = str5 = \"jenny\\'s \\\\n \\\"lectures\\\"\"\n",
    "print(str6)\n",
    "print(3*str6)"
   ]
  },
  {
   "cell_type": "code",
   "execution_count": 36,
   "id": "f6ff3735",
   "metadata": {},
   "outputs": [
    {
     "name": "stdout",
     "output_type": "stream",
     "text": [
      "your name is having 16 characters\n",
      "<class 'int'>\n",
      "<class 'str'>\n",
      "20\n",
      "1010\n",
      "20\n",
      "10.0\n",
      "20.0\n"
     ]
    }
   ],
   "source": [
    "#lec 12 type casting\n",
    "length = len(\"vaishnavi's home\")\n",
    "print(\"your name is having \" + str(length) + \" characters\") \n",
    "print(type(length))\n",
    "print(type(str(length)))\n",
    "\n",
    "print(10+10)\n",
    "print(\"10\"+\"10\")\n",
    "print(int(\"10\")+int(\"10\"))\n",
    "print(float(10))\n",
    "print(int(\"10\")+float(\"10\"))"
   ]
  },
  {
   "cell_type": "code",
   "execution_count": 42,
   "id": "4b176047",
   "metadata": {},
   "outputs": [
    {
     "name": "stdout",
     "output_type": "stream",
     "text": [
      "10vivek\n",
      "133\n"
     ]
    }
   ],
   "source": [
    "name = \"vivek\"\n",
    "print(\"10\"+name)\n",
    "#print(10+int(name)) #TypeError bcz int and str can't concatenate. string value is \"vivek\" which can't typecast into int(in decimal)\n",
    "new_name = \"123\"\n",
    "print(10+ int(new_name)) #bcz new_name is \"123\" which can be typecasted(or you can say converted) into int. "
   ]
  },
  {
   "cell_type": "code",
   "execution_count": 46,
   "id": "8ba27690",
   "metadata": {},
   "outputs": [
    {
     "name": "stdout",
     "output_type": "stream",
     "text": [
      "enter first number : 1\n",
      "enter second number : 4\n",
      "addition of the two number is 5\n"
     ]
    }
   ],
   "source": [
    "#assignment\n",
    "num1 = int(input(\"enter first number : \"))\n",
    "num2 = int(input(\"enter second number : \"))\n",
    "add = num1 + num2\n",
    "print(\"addition of the two number is \"+ str(add))"
   ]
  },
  {
   "cell_type": "code",
   "execution_count": 48,
   "id": "ee8b0c1c",
   "metadata": {},
   "outputs": [
    {
     "name": "stdout",
     "output_type": "stream",
     "text": [
      "enter a two digit number : 99\n",
      "18\n"
     ]
    }
   ],
   "source": [
    "#lec 13 exercise\n",
    "num = input(\"enter a two digit number : \")\n",
    "digit1 = int(num[0]) # string subscripting\n",
    "digit2 = int(num[1])\n",
    "add = digit1 + digit2\n",
    "print(add)\n"
   ]
  },
  {
   "cell_type": "code",
   "execution_count": null,
   "id": "bf43e5a3",
   "metadata": {},
   "outputs": [],
   "source": []
  },
  {
   "cell_type": "code",
   "execution_count": null,
   "id": "d6f70472",
   "metadata": {},
   "outputs": [],
   "source": []
  }
 ],
 "metadata": {
  "kernelspec": {
   "display_name": "Python 3 (ipykernel)",
   "language": "python",
   "name": "python3"
  },
  "language_info": {
   "codemirror_mode": {
    "name": "ipython",
    "version": 3
   },
   "file_extension": ".py",
   "mimetype": "text/x-python",
   "name": "python",
   "nbconvert_exporter": "python",
   "pygments_lexer": "ipython3",
   "version": "3.9.13"
  }
 },
 "nbformat": 4,
 "nbformat_minor": 5
}
