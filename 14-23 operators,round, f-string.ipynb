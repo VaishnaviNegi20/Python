{
 "cells": [
  {
   "cell_type": "code",
   "execution_count": null,
   "id": "4230a4ba",
   "metadata": {},
   "outputs": [],
   "source": [
    "#lec14 operators in python"
   ]
  },
  {
   "cell_type": "code",
   "execution_count": 2,
   "id": "bef97a2d",
   "metadata": {},
   "outputs": [
    {
     "data": {
      "text/plain": [
       "'\\n\\nTypes of operators in python are\\n\\n  1. arithmetic +, -, *, /(gives only float values), %(modulus), //(floor division gives only int value), **(power/exponent)\\n      precedence (PEMDAS) If same precedence operators are in the question then associativity comes into picture.\\n      () \\n      **         right to left associativity\\n      * / // %   left to right associativity\\n      + -        left to right associativity\\n  \\n  2. comparison(relational)\\n  3. logical\\n  4. bitwise\\n  5. assignment\\n  6. identity\\n  7. membership\\n  \\n'"
      ]
     },
     "execution_count": 2,
     "metadata": {},
     "output_type": "execute_result"
    }
   ],
   "source": [
    "'''\n",
    "\n",
    "Types of operators in python are\n",
    "\n",
    "  1. arithmetic operators\n",
    "      +, -, *, /(gives only float values), %(modulus), //(floor division gives only int value), **(power/exponent)\n",
    "      \n",
    "      Precedence (PEMDAS) If same precedence operators are in the question then associativity comes into picture.\n",
    "          () \n",
    "          **         right to left associativity\n",
    "          * / // %   left to right associativity\n",
    "          + -        left to right associativity\n",
    "  \n",
    "  2. assignment operators\n",
    "      =\n",
    "      short hand operators +=, -=, *=, /=, %=, //=, **=\n",
    "      a+=1 means a = a+1\n",
    "      a/=b means a = a/b\n",
    "      \n",
    "  3.  comparison(relational) operators\n",
    "      < <= > >= == !=\n",
    "      \n",
    "  4. logical operators\n",
    "      and (both true then only true)\n",
    "      or (anyone of them is true then true)\n",
    "      not (reverse)\n",
    "      \n",
    "  5. bitwise operators \n",
    "      bit means they are working on binary numbers\n",
    "      & (bitwise and) both the bits are 1 then 1\n",
    "      | (bitwise or)  anyone of the bit is 1 then 1\n",
    "      ^ (bitwose xor)  both the bits are same then 0, both the bits are different then 1\n",
    "      ~ (compliment/not) take 2's compliment of the number\n",
    "      << (bitwise left shift) gain bits, don't discard, x<<n = x*(2**n)\n",
    "      >> (bitwise right shift) lose bits, have to discard, x>>n = x/(2**n)\n",
    "      \n",
    "  6. identity operators \n",
    "      is\n",
    "      is not\n",
    "  7. membership operators\n",
    "      in \n",
    "      not in\n",
    "  \n",
    "'''\n"
   ]
  },
  {
   "cell_type": "code",
   "execution_count": 6,
   "id": "8c171f9e",
   "metadata": {},
   "outputs": [
    {
     "name": "stdout",
     "output_type": "stream",
     "text": [
      "enter your weight in kgs : 58\n",
      "enter your height in meters : 1.6\n",
      "22.656249999999996\n"
     ]
    }
   ],
   "source": [
    "# assignment \n",
    "weight = float(input(\"enter your weight in kgs : \"))\n",
    "height = float(input(\"enter your height in meters : \"))\n",
    "BMI = weight/(height**2)\n",
    "print(BMI)"
   ]
  },
  {
   "cell_type": "code",
   "execution_count": 8,
   "id": "00a71f23",
   "metadata": {},
   "outputs": [
    {
     "name": "stdout",
     "output_type": "stream",
     "text": [
      "18\n",
      "25\n",
      "9\n",
      "-46\n",
      "272\n",
      "7\n"
     ]
    }
   ],
   "source": [
    "#lec 17 bitwise operators in python\n",
    "print(26&23)\n",
    "print(17|24)\n",
    "print(17^24)\n",
    "print(~45) #bitwise not (have to understand it completely)\n",
    "print(68<<2)\n",
    "print(56>>3)"
   ]
  },
  {
   "cell_type": "code",
   "execution_count": 18,
   "id": "a73e9fa2",
   "metadata": {},
   "outputs": [
    {
     "name": "stdout",
     "output_type": "stream",
     "text": [
      "2.67\n",
      "3.0\n",
      "12\n",
      "12\n",
      "0\n",
      "6.8\n",
      "6.8\n",
      "1200\n",
      "670.0\n"
     ]
    }
   ],
   "source": [
    "# round() function\n",
    "print(round(2.6666,2))\n",
    "print(round(2.6666,0))\n",
    "print(round(11.5))\n",
    "print(round(12.5))\n",
    "print(round(467,-3))\n",
    "print(round(6.75,1))\n",
    "print(round(6.85,1))\n",
    "print(round(1212,-2))\n",
    "print(round(674.1012,-1))"
   ]
  },
  {
   "cell_type": "code",
   "execution_count": 20,
   "id": "2cfa54f4",
   "metadata": {},
   "outputs": [
    {
     "name": "stdout",
     "output_type": "stream",
     "text": [
      "My name is krishna. I'm 30 years old. My height is 1.5 meters.\n",
      "krishna's father is 60 years old.\n"
     ]
    }
   ],
   "source": [
    "#lec 22 f-strings in python\n",
    "name = \"krishna\"\n",
    "age = 30\n",
    "height = 1.5\n",
    "print(f\"My name is {name}. I'm {age} years old. My height is {height} meters.\")\n",
    "print(f\"{name}'s father is {age*2} years old.\") #can put expressions in f-strings also."
   ]
  },
  {
   "cell_type": "code",
   "execution_count": null,
   "id": "e40017da",
   "metadata": {},
   "outputs": [],
   "source": []
  }
 ],
 "metadata": {
  "kernelspec": {
   "display_name": "Python 3 (ipykernel)",
   "language": "python",
   "name": "python3"
  },
  "language_info": {
   "codemirror_mode": {
    "name": "ipython",
    "version": 3
   },
   "file_extension": ".py",
   "mimetype": "text/x-python",
   "name": "python",
   "nbconvert_exporter": "python",
   "pygments_lexer": "ipython3",
   "version": "3.9.13"
  }
 },
 "nbformat": 4,
 "nbformat_minor": 5
}
