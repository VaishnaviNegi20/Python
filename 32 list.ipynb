{
 "cells": [
  {
   "cell_type": "markdown",
   "id": "5203c1ac",
   "metadata": {},
   "source": [
    "# Python Lists\n",
    "Read the documentation of python. There many more methods are available."
   ]
  },
  {
   "cell_type": "code",
   "execution_count": 1,
   "id": "896f3397",
   "metadata": {},
   "outputs": [
    {
     "data": {
      "text/plain": [
       "\"\\nList is a data structure and used to storing and organiseing data.\\nIt comes under sequence data type.\\nIt's a dynamically sized array.\\nList can contain homogeneous datatypes and non-homogeneous datatypes.\\nList have a define order and it'll not change afterwards.\\nList is mutable(can change).We can add, remove items from list.\\nDuplicates are allowed in the lists.\\n\""
      ]
     },
     "execution_count": 1,
     "metadata": {},
     "output_type": "execute_result"
    }
   ],
   "source": [
    "'''\n",
    "List is a data structure and used to storing and organiseing data.\n",
    "It comes under sequence data type.\n",
    "It's a dynamically sized array.\n",
    "List can contain homogeneous datatypes and non-homogeneous datatypes.\n",
    "List have a define order and it'll not change afterwards.\n",
    "List is mutable(can change).We can add, remove items from list.\n",
    "Duplicates are allowed in the lists.\n",
    "'''"
   ]
  },
  {
   "cell_type": "code",
   "execution_count": 2,
   "id": "80769ccf",
   "metadata": {},
   "outputs": [],
   "source": [
    "numbers = [10, 0, -1, 7,8,10,-67]"
   ]
  },
  {
   "cell_type": "code",
   "execution_count": 3,
   "id": "b0a36836",
   "metadata": {},
   "outputs": [],
   "source": [
    "names = ['sonam','sonam','neha','vivek','monika','sofia','akanksha']"
   ]
  },
  {
   "cell_type": "code",
   "execution_count": 4,
   "id": "2c9a9b76",
   "metadata": {},
   "outputs": [],
   "source": [
    "mix_list = [10, 0, -1, 7, 8, 10.0, True,-67,'sonam','sonam','neha','vivek','monika','sofia','akanksha']"
   ]
  },
  {
   "cell_type": "code",
   "execution_count": 5,
   "id": "9f76c888",
   "metadata": {},
   "outputs": [
    {
     "name": "stdout",
     "output_type": "stream",
     "text": [
      "7\n"
     ]
    }
   ],
   "source": [
    "print(len(numbers))"
   ]
  },
  {
   "cell_type": "code",
   "execution_count": 6,
   "id": "3e0fc31a",
   "metadata": {},
   "outputs": [
    {
     "name": "stdout",
     "output_type": "stream",
     "text": [
      "-67\n"
     ]
    }
   ],
   "source": [
    "print(numbers[-1]) #negative indexing is possible.It'll start from backward position."
   ]
  },
  {
   "cell_type": "code",
   "execution_count": 7,
   "id": "e32ff692",
   "metadata": {},
   "outputs": [
    {
     "name": "stdout",
     "output_type": "stream",
     "text": [
      "[0, 7]\n"
     ]
    }
   ],
   "source": [
    "#string slicing\n",
    "print(numbers[1:5:2]) #slice from 1st index till 5-1 index with 2 steps"
   ]
  },
  {
   "cell_type": "code",
   "execution_count": 8,
   "id": "e8371c88",
   "metadata": {},
   "outputs": [
    {
     "name": "stdout",
     "output_type": "stream",
     "text": [
      "None\n",
      "[-67, -1, 0, 7, 8, 10, 10]\n"
     ]
    }
   ],
   "source": [
    "print(numbers.sort()) #this will give None so first sort then print\n",
    "numbers.sort()\n",
    "print(numbers)"
   ]
  },
  {
   "cell_type": "code",
   "execution_count": 9,
   "id": "5e098830",
   "metadata": {},
   "outputs": [
    {
     "name": "stdout",
     "output_type": "stream",
     "text": [
      "[10, 10, 8, 7, 0, -1, -67]\n"
     ]
    }
   ],
   "source": [
    "numbers.reverse()\n",
    "print(numbers)"
   ]
  },
  {
   "cell_type": "code",
   "execution_count": 10,
   "id": "8836b4e5",
   "metadata": {},
   "outputs": [
    {
     "name": "stdout",
     "output_type": "stream",
     "text": [
      "Help on class list in module builtins:\n",
      "\n",
      "class list(object)\n",
      " |  list(iterable=(), /)\n",
      " |  \n",
      " |  Built-in mutable sequence.\n",
      " |  \n",
      " |  If no argument is given, the constructor creates a new empty list.\n",
      " |  The argument must be an iterable if specified.\n",
      " |  \n",
      " |  Methods defined here:\n",
      " |  \n",
      " |  __add__(self, value, /)\n",
      " |      Return self+value.\n",
      " |  \n",
      " |  __contains__(self, key, /)\n",
      " |      Return key in self.\n",
      " |  \n",
      " |  __delitem__(self, key, /)\n",
      " |      Delete self[key].\n",
      " |  \n",
      " |  __eq__(self, value, /)\n",
      " |      Return self==value.\n",
      " |  \n",
      " |  __ge__(self, value, /)\n",
      " |      Return self>=value.\n",
      " |  \n",
      " |  __getattribute__(self, name, /)\n",
      " |      Return getattr(self, name).\n",
      " |  \n",
      " |  __getitem__(...)\n",
      " |      x.__getitem__(y) <==> x[y]\n",
      " |  \n",
      " |  __gt__(self, value, /)\n",
      " |      Return self>value.\n",
      " |  \n",
      " |  __iadd__(self, value, /)\n",
      " |      Implement self+=value.\n",
      " |  \n",
      " |  __imul__(self, value, /)\n",
      " |      Implement self*=value.\n",
      " |  \n",
      " |  __init__(self, /, *args, **kwargs)\n",
      " |      Initialize self.  See help(type(self)) for accurate signature.\n",
      " |  \n",
      " |  __iter__(self, /)\n",
      " |      Implement iter(self).\n",
      " |  \n",
      " |  __le__(self, value, /)\n",
      " |      Return self<=value.\n",
      " |  \n",
      " |  __len__(self, /)\n",
      " |      Return len(self).\n",
      " |  \n",
      " |  __lt__(self, value, /)\n",
      " |      Return self<value.\n",
      " |  \n",
      " |  __mul__(self, value, /)\n",
      " |      Return self*value.\n",
      " |  \n",
      " |  __ne__(self, value, /)\n",
      " |      Return self!=value.\n",
      " |  \n",
      " |  __repr__(self, /)\n",
      " |      Return repr(self).\n",
      " |  \n",
      " |  __reversed__(self, /)\n",
      " |      Return a reverse iterator over the list.\n",
      " |  \n",
      " |  __rmul__(self, value, /)\n",
      " |      Return value*self.\n",
      " |  \n",
      " |  __setitem__(self, key, value, /)\n",
      " |      Set self[key] to value.\n",
      " |  \n",
      " |  __sizeof__(self, /)\n",
      " |      Return the size of the list in memory, in bytes.\n",
      " |  \n",
      " |  append(self, object, /)\n",
      " |      Append object to the end of the list.\n",
      " |  \n",
      " |  clear(self, /)\n",
      " |      Remove all items from list.\n",
      " |  \n",
      " |  copy(self, /)\n",
      " |      Return a shallow copy of the list.\n",
      " |  \n",
      " |  count(self, value, /)\n",
      " |      Return number of occurrences of value.\n",
      " |  \n",
      " |  extend(self, iterable, /)\n",
      " |      Extend list by appending elements from the iterable.\n",
      " |  \n",
      " |  index(self, value, start=0, stop=9223372036854775807, /)\n",
      " |      Return first index of value.\n",
      " |      \n",
      " |      Raises ValueError if the value is not present.\n",
      " |  \n",
      " |  insert(self, index, object, /)\n",
      " |      Insert object before index.\n",
      " |  \n",
      " |  pop(self, index=-1, /)\n",
      " |      Remove and return item at index (default last).\n",
      " |      \n",
      " |      Raises IndexError if list is empty or index is out of range.\n",
      " |  \n",
      " |  remove(self, value, /)\n",
      " |      Remove first occurrence of value.\n",
      " |      \n",
      " |      Raises ValueError if the value is not present.\n",
      " |  \n",
      " |  reverse(self, /)\n",
      " |      Reverse *IN PLACE*.\n",
      " |  \n",
      " |  sort(self, /, *, key=None, reverse=False)\n",
      " |      Sort the list in ascending order and return None.\n",
      " |      \n",
      " |      The sort is in-place (i.e. the list itself is modified) and stable (i.e. the\n",
      " |      order of two equal elements is maintained).\n",
      " |      \n",
      " |      If a key function is given, apply it once to each list item and sort them,\n",
      " |      ascending or descending, according to their function values.\n",
      " |      \n",
      " |      The reverse flag can be set to sort in descending order.\n",
      " |  \n",
      " |  ----------------------------------------------------------------------\n",
      " |  Class methods defined here:\n",
      " |  \n",
      " |  __class_getitem__(...) from builtins.type\n",
      " |      See PEP 585\n",
      " |  \n",
      " |  ----------------------------------------------------------------------\n",
      " |  Static methods defined here:\n",
      " |  \n",
      " |  __new__(*args, **kwargs) from builtins.type\n",
      " |      Create and return a new object.  See help(type) for accurate signature.\n",
      " |  \n",
      " |  ----------------------------------------------------------------------\n",
      " |  Data and other attributes defined here:\n",
      " |  \n",
      " |  __hash__ = None\n",
      "\n"
     ]
    }
   ],
   "source": [
    "help(list)"
   ]
  },
  {
   "cell_type": "code",
   "execution_count": 11,
   "id": "4141f933",
   "metadata": {},
   "outputs": [
    {
     "name": "stdout",
     "output_type": "stream",
     "text": [
      "10\n"
     ]
    }
   ],
   "source": [
    "print(max(numbers))"
   ]
  },
  {
   "cell_type": "code",
   "execution_count": 12,
   "id": "3d8bcfa7",
   "metadata": {},
   "outputs": [
    {
     "name": "stdout",
     "output_type": "stream",
     "text": [
      "-67\n"
     ]
    }
   ],
   "source": [
    "print(min(numbers))"
   ]
  },
  {
   "cell_type": "code",
   "execution_count": 13,
   "id": "fa9d66d9",
   "metadata": {},
   "outputs": [
    {
     "name": "stdout",
     "output_type": "stream",
     "text": [
      "[10, 10, 8, 7, 0, -1, -67, 45]\n"
     ]
    }
   ],
   "source": [
    "numbers.append(45) # one at a time at the end\n",
    "print(numbers)"
   ]
  },
  {
   "cell_type": "code",
   "execution_count": 14,
   "id": "a6207054",
   "metadata": {},
   "outputs": [
    {
     "name": "stdout",
     "output_type": "stream",
     "text": [
      "[10, 10, 45, 8, 7, 0, -1, -67, 45]\n"
     ]
    }
   ],
   "source": [
    "numbers.insert(2,45) # one at a time at a specific position\n",
    "print(numbers)"
   ]
  },
  {
   "cell_type": "code",
   "execution_count": 15,
   "id": "876223db",
   "metadata": {},
   "outputs": [
    {
     "name": "stdout",
     "output_type": "stream",
     "text": [
      "[10, 10, 45, 8, 7, 0, -1, -67, 45, 34, 67, 35, 89]\n"
     ]
    }
   ],
   "source": [
    "numbers.extend([34,67,35,89]) #more than one at the end\n",
    "print(numbers)"
   ]
  },
  {
   "cell_type": "code",
   "execution_count": 16,
   "id": "030d2a3b",
   "metadata": {},
   "outputs": [
    {
     "name": "stdout",
     "output_type": "stream",
     "text": [
      "[10, 10, 3, 8, 7, 0, -1, -67, 45, 34, 67, 35, 89]\n"
     ]
    }
   ],
   "source": [
    "numbers[2] = 3 #change/modify the value at a specific index\n",
    "print(numbers)"
   ]
  },
  {
   "cell_type": "code",
   "execution_count": 17,
   "id": "f1273f23",
   "metadata": {},
   "outputs": [
    {
     "name": "stdout",
     "output_type": "stream",
     "text": [
      "[10, 10, 2, 7, 90, 28, -6, -67, 45, 34, 67, 35, 89]\n"
     ]
    }
   ],
   "source": [
    "numbers[2:7]=[2,7,90,28,-6] #change/modify the value at a specific range\n",
    "print(numbers)"
   ]
  },
  {
   "cell_type": "code",
   "execution_count": 18,
   "id": "003c1e3a",
   "metadata": {},
   "outputs": [
    {
     "name": "stdout",
     "output_type": "stream",
     "text": [
      "[10, 2, 7, 90, 28, -6, -67, 45, 34, 67, 35, 89]\n"
     ]
    }
   ],
   "source": [
    "numbers.remove(10) #remove the first occurance of the value given but doesn't return\n",
    "print(numbers)"
   ]
  },
  {
   "cell_type": "code",
   "execution_count": 19,
   "id": "8b8f8a51",
   "metadata": {},
   "outputs": [
    {
     "name": "stdout",
     "output_type": "stream",
     "text": [
      "89\n",
      "[10, 2, 7, 90, 28, -6, -67, 45, 34, 67, 35]\n"
     ]
    }
   ],
   "source": [
    "print(numbers.pop()) #remove the last value of the list but it'll return that value also\n",
    "print(numbers)"
   ]
  },
  {
   "cell_type": "code",
   "execution_count": 20,
   "id": "311a2cdf",
   "metadata": {},
   "outputs": [
    {
     "name": "stdout",
     "output_type": "stream",
     "text": [
      "90\n",
      "[10, 2, 7, 28, -6, -67, 45, 34, 67, 35]\n"
     ]
    }
   ],
   "source": [
    "print(numbers.pop(3)) #remove by given index\n",
    "print(numbers)"
   ]
  },
  {
   "cell_type": "code",
   "execution_count": 21,
   "id": "c415190b",
   "metadata": {},
   "outputs": [
    {
     "name": "stdout",
     "output_type": "stream",
     "text": [
      "[10, 2, 7, 28, -6, -67, 45, 34, 67, 35]\n",
      "1\n"
     ]
    }
   ],
   "source": [
    "print(numbers)\n",
    "print(numbers.count(45))"
   ]
  },
  {
   "cell_type": "code",
   "execution_count": null,
   "id": "682a1ce1",
   "metadata": {},
   "outputs": [],
   "source": []
  }
 ],
 "metadata": {
  "kernelspec": {
   "display_name": "Python 3 (ipykernel)",
   "language": "python",
   "name": "python3"
  },
  "language_info": {
   "codemirror_mode": {
    "name": "ipython",
    "version": 3
   },
   "file_extension": ".py",
   "mimetype": "text/x-python",
   "name": "python",
   "nbconvert_exporter": "python",
   "pygments_lexer": "ipython3",
   "version": "3.9.13"
  }
 },
 "nbformat": 4,
 "nbformat_minor": 5
}
