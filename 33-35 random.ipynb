{
 "cells": [
  {
   "cell_type": "markdown",
   "id": "5015e252",
   "metadata": {},
   "source": [
    "# Random Module\n",
    "learn more about it in python documentation"
   ]
  },
  {
   "cell_type": "code",
   "execution_count": 2,
   "id": "4751f47d",
   "metadata": {},
   "outputs": [
    {
     "data": {
      "text/plain": [
       "'\\nIn-built module in Python used to generate psuedo random number.\\n'"
      ]
     },
     "execution_count": 2,
     "metadata": {},
     "output_type": "execute_result"
    }
   ],
   "source": [
    "'''\n",
    "In-built module in Python used to generate psuedo random number.\n",
    "'''"
   ]
  },
  {
   "cell_type": "code",
   "execution_count": 3,
   "id": "08ba053f",
   "metadata": {},
   "outputs": [],
   "source": [
    "import random"
   ]
  },
  {
   "cell_type": "code",
   "execution_count": 10,
   "id": "d65fd021",
   "metadata": {},
   "outputs": [
    {
     "name": "stdout",
     "output_type": "stream",
     "text": [
      "9\n"
     ]
    }
   ],
   "source": [
    "a = random.randint(1,9) # here a<= x <=b , a,b= limits, x= integer number\n",
    "print(a)"
   ]
  },
  {
   "cell_type": "code",
   "execution_count": 11,
   "id": "9c92c7da",
   "metadata": {},
   "outputs": [
    {
     "name": "stdout",
     "output_type": "stream",
     "text": [
      "6\n"
     ]
    }
   ],
   "source": [
    "a = random.randrange(1,9) # here a<= x <b , a,b= limits, x= int number\n",
    "print(a)"
   ]
  },
  {
   "cell_type": "code",
   "execution_count": 13,
   "id": "070a9fa5",
   "metadata": {},
   "outputs": [
    {
     "name": "stdout",
     "output_type": "stream",
     "text": [
      "0.8440450213344566\n"
     ]
    }
   ],
   "source": [
    "a = random.random() # gives floating number b/w 0 and 1, here 0.0<= x <1.0 , a,b= limits, x= float number\n",
    "print(a)"
   ]
  },
  {
   "cell_type": "code",
   "execution_count": 15,
   "id": "fd09bf08",
   "metadata": {},
   "outputs": [
    {
     "name": "stdout",
     "output_type": "stream",
     "text": [
      "4.980126916345054\n"
     ]
    }
   ],
   "source": [
    "a = random.uniform(2,5) # gives floating number b/w a and b, here a<= x <b , a,b= limits, x= float number\n",
    "print(a)"
   ]
  },
  {
   "cell_type": "code",
   "execution_count": 19,
   "id": "94529dcc",
   "metadata": {},
   "outputs": [
    {
     "name": "stdout",
     "output_type": "stream",
     "text": [
      "56\n"
     ]
    }
   ],
   "source": [
    "list1 = [2,4,56,-7,90,56,23]\n",
    "a= random.choice(list1) #randomly choose the element from the given list\n",
    "print(a)"
   ]
  },
  {
   "cell_type": "code",
   "execution_count": 4,
   "id": "fe5b217c",
   "metadata": {},
   "outputs": [
    {
     "name": "stdout",
     "output_type": "stream",
     "text": [
      "[2, 4, 56, -7, 90, 56, 23]\n",
      "[56, 23, -7, 90, 4, 2, 56]\n"
     ]
    }
   ],
   "source": [
    "list1 = [2,4,56,-7,90,56,23]\n",
    "print(list1)\n",
    "random.shuffle(list1) #randomly shuffle the given list\n",
    "print(list1)"
   ]
  },
  {
   "cell_type": "code",
   "execution_count": 25,
   "id": "76111388",
   "metadata": {},
   "outputs": [
    {
     "name": "stdout",
     "output_type": "stream",
     "text": [
      "tail\n"
     ]
    }
   ],
   "source": [
    "#heads or tails\n",
    "import random\n",
    "a = random.randint(0,1)\n",
    "if a==0:\n",
    "    print(\"Head\")\n",
    "else:\n",
    "    print(\"tail\")\n"
   ]
  },
  {
   "cell_type": "code",
   "execution_count": 24,
   "id": "55590ea2",
   "metadata": {},
   "outputs": [
    {
     "name": "stdout",
     "output_type": "stream",
     "text": [
      "enter the names separated by comma vivek,vaishnavi, monika, sonam, akanksha, sofia, sonam\n",
      "vaishnavi will pay the bill\n"
     ]
    }
   ],
   "source": [
    "# lec35 exercise\n",
    "#method1\n",
    "import random\n",
    "names = input(\"enter the names separated by comma \")\n",
    "names_list = names.split(\",\")\n",
    "#print(names_list)\n",
    "index_selected = random.randrange(0,len(names_list))\n",
    "#print(index_selected)\n",
    "print(f\"{names_list[index_selected]} will pay the bill\")"
   ]
  },
  {
   "cell_type": "code",
   "execution_count": 23,
   "id": "3366812e",
   "metadata": {},
   "outputs": [
    {
     "name": "stdout",
     "output_type": "stream",
     "text": [
      "enter names separated by space vivek vaishnavi monika sonam akanksha sofia sonam\n",
      "akanksha will pay the bill\n"
     ]
    }
   ],
   "source": [
    "#method2\n",
    "import random\n",
    "names = input(\"enter names separated by space \")\n",
    "names_list = names.split(\" \")\n",
    "name_selected = random.choice(names_list)\n",
    "print(f\"{name_selected} will pay the bill\")\n"
   ]
  },
  {
   "cell_type": "code",
   "execution_count": null,
   "id": "892f1187",
   "metadata": {},
   "outputs": [],
   "source": []
  }
 ],
 "metadata": {
  "kernelspec": {
   "display_name": "Python 3 (ipykernel)",
   "language": "python",
   "name": "python3"
  },
  "language_info": {
   "codemirror_mode": {
    "name": "ipython",
    "version": 3
   },
   "file_extension": ".py",
   "mimetype": "text/x-python",
   "name": "python",
   "nbconvert_exporter": "python",
   "pygments_lexer": "ipython3",
   "version": "3.9.13"
  }
 },
 "nbformat": 4,
 "nbformat_minor": 5
}
