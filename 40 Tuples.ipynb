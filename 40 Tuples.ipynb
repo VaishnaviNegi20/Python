{
 "cells": [
  {
   "cell_type": "code",
   "execution_count": 2,
   "id": "99d54103",
   "metadata": {},
   "outputs": [
    {
     "name": "stdout",
     "output_type": "stream",
     "text": [
      "<class 'int'>\n",
      "<class 'tuple'>\n"
     ]
    }
   ],
   "source": [
    "#lec41part1\n",
    "#always put a comma if you store a single value in tuple\n",
    "tuple1 = (10)\n",
    "tuple2 = (10,)\n",
    "print(type(tuple1))\n",
    "print(type(tuple2))"
   ]
  },
  {
   "cell_type": "code",
   "execution_count": 3,
   "id": "44be5842",
   "metadata": {},
   "outputs": [
    {
     "data": {
      "text/plain": [
       "True"
      ]
     },
     "execution_count": 3,
     "metadata": {},
     "output_type": "execute_result"
    }
   ],
   "source": [
    "# -ve indexing is also possible in tuple \n",
    "tuple3 = (12,6,-8,\"vivek\",True)\n",
    "tuple3[-1]"
   ]
  },
  {
   "cell_type": "code",
   "execution_count": 5,
   "id": "2bf36db6",
   "metadata": {},
   "outputs": [
    {
     "data": {
      "text/plain": [
       "\"\\nTuples are immutable means you can't change the values, can't add, remove the values\\nhence if you don't want to change the items in future, use tuple.\\n\""
      ]
     },
     "execution_count": 5,
     "metadata": {},
     "output_type": "execute_result"
    }
   ],
   "source": [
    "'''\n",
    "Tuples are immutable means you can't change the values, can't add, remove the values\n",
    "hence if you don't want to change the items in future, use tuple.\n",
    "'''\n",
    "\"\"\"\n",
    "Lists are mutable means you can change the values, add, remove the values\n",
    "so when you want to change the items in the future, use lists.\n",
    "\"\"\""
   ]
  },
  {
   "cell_type": "code",
   "execution_count": 6,
   "id": "83cfa651",
   "metadata": {},
   "outputs": [
    {
     "name": "stdout",
     "output_type": "stream",
     "text": [
      "(12, 6, -8, 'vivek', True, 12)\n"
     ]
    }
   ],
   "source": [
    "# duplicate items are allowed in tuple.\n",
    "tuple4 = (12,6,-8,\"vivek\",True,12)\n",
    "print(tuple4)"
   ]
  },
  {
   "cell_type": "code",
   "execution_count": 8,
   "id": "bcbde2bb",
   "metadata": {},
   "outputs": [
    {
     "name": "stdout",
     "output_type": "stream",
     "text": [
      "((12, 6, -8, 'vivek', True), (12, 6, -8, 'vivek', True, 12))\n"
     ]
    }
   ],
   "source": [
    "#nested tuple is also possible.\n",
    "tuple5 = (tuple3,tuple4)\n",
    "print(tuple5)"
   ]
  },
  {
   "cell_type": "code",
   "execution_count": 9,
   "id": "1fd10a8d",
   "metadata": {},
   "outputs": [
    {
     "name": "stdout",
     "output_type": "stream",
     "text": [
      "0\n"
     ]
    }
   ],
   "source": [
    "# gives index number of item's first occurance\n",
    "print(tuple4.index(12))"
   ]
  },
  {
   "cell_type": "code",
   "execution_count": 15,
   "id": "e92f7c77",
   "metadata": {},
   "outputs": [
    {
     "name": "stdout",
     "output_type": "stream",
     "text": [
      "(1, 4, 5, -56, 4, 78, True, 4.6, 'akash')\n",
      "<class 'tuple'>\n"
     ]
    }
   ],
   "source": [
    "#can convert list to tuple\n",
    "list1 = [1,4,5,-56,4,78,True,4.6,\"akash\"]\n",
    "tuple6 = tuple(list1)\n",
    "print(tuple6)\n",
    "print(type(tuple6))"
   ]
  },
  {
   "cell_type": "code",
   "execution_count": 16,
   "id": "e159d6b5",
   "metadata": {},
   "outputs": [
    {
     "name": "stdout",
     "output_type": "stream",
     "text": [
      "(15, 15, 15, 15, 15, 15)\n"
     ]
    }
   ],
   "source": [
    "tuple7 = (15, )*6\n",
    "print(tuple7)"
   ]
  },
  {
   "cell_type": "code",
   "execution_count": null,
   "id": "0788a047",
   "metadata": {},
   "outputs": [],
   "source": []
  },
  {
   "cell_type": "code",
   "execution_count": null,
   "id": "de39bbac",
   "metadata": {},
   "outputs": [],
   "source": [
    "#lec41part2\n"
   ]
  }
 ],
 "metadata": {
  "kernelspec": {
   "display_name": "Python 3 (ipykernel)",
   "language": "python",
   "name": "python3"
  },
  "language_info": {
   "codemirror_mode": {
    "name": "ipython",
    "version": 3
   },
   "file_extension": ".py",
   "mimetype": "text/x-python",
   "name": "python",
   "nbconvert_exporter": "python",
   "pygments_lexer": "ipython3",
   "version": "3.9.13"
  }
 },
 "nbformat": 4,
 "nbformat_minor": 5
}
