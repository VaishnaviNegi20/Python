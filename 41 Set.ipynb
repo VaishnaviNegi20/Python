{
 "cells": [
  {
   "cell_type": "code",
   "execution_count": 1,
   "id": "d2490dd8",
   "metadata": {},
   "outputs": [],
   "source": [
    "#lec41part1"
   ]
  },
  {
   "cell_type": "code",
   "execution_count": 2,
   "id": "87f1697a",
   "metadata": {},
   "outputs": [
    {
     "name": "stdout",
     "output_type": "stream",
     "text": [
      "{1, 2, 3, 4, 5, 6, 7, 8, 7.5, 75, -77, 'ria', -34}\n",
      "{True, 2, 3, 4, 5, 6, 7, 8, 7.5, 75, -77, 'ria', -34}\n"
     ]
    }
   ],
   "source": [
    "#duplicate items are not allowed in set\n",
    "set1 = {1,4,6,8,3,2,5,75,7,3,2,2,1,-77,-34,7.5,7.5,True,True,\"ria\",\"ria\"}\n",
    "set2 = {4,6,8,3,2,5,75,7,3,2,2,-77,-34,7.5,7.5,True,True,1,1,\"ria\",\"ria\"}\n",
    "print(set1) # True and 1 are duplicate values same as 0 and False\n",
    "print(set2) # whichever value comes first(1 or True), it'll print that only"
   ]
  },
  {
   "cell_type": "code",
   "execution_count": 3,
   "id": "56603185",
   "metadata": {},
   "outputs": [
    {
     "name": "stdout",
     "output_type": "stream",
     "text": [
      "{1, 2, 3, 4, 5, 6, 7, 8, 7.5, 75, -77, 'ria', -34}\n"
     ]
    }
   ],
   "source": [
    "#set doesn't have defined order.(sequence of items can change in output)\n",
    "set3 = {1,4,6,8,3,2,5,75,7,3,2,2,1,-77,-34,7.5,7.5,True,True,\"ria\",\"ria\"}\n",
    "print(set3) #don't get 4 after 1"
   ]
  },
  {
   "cell_type": "code",
   "execution_count": 4,
   "id": "b373d16a",
   "metadata": {},
   "outputs": [
    {
     "ename": "TypeError",
     "evalue": "'set' object is not subscriptable",
     "output_type": "error",
     "traceback": [
      "\u001b[1;31m---------------------------------------------------------------------------\u001b[0m",
      "\u001b[1;31mTypeError\u001b[0m                                 Traceback (most recent call last)",
      "\u001b[1;32m~\\AppData\\Local\\Temp\\ipykernel_10920\\4008708783.py\u001b[0m in \u001b[0;36m<module>\u001b[1;34m\u001b[0m\n\u001b[0;32m      1\u001b[0m \u001b[1;31m#subscripting is not allowed in set bcz set is unordered.\u001b[0m\u001b[1;33m\u001b[0m\u001b[1;33m\u001b[0m\u001b[0m\n\u001b[1;32m----> 2\u001b[1;33m \u001b[0mprint\u001b[0m\u001b[1;33m(\u001b[0m\u001b[0mset1\u001b[0m\u001b[1;33m[\u001b[0m\u001b[1;36m1\u001b[0m\u001b[1;33m]\u001b[0m\u001b[1;33m)\u001b[0m\u001b[1;33m\u001b[0m\u001b[1;33m\u001b[0m\u001b[0m\n\u001b[0m",
      "\u001b[1;31mTypeError\u001b[0m: 'set' object is not subscriptable"
     ]
    }
   ],
   "source": [
    "#subscripting is not allowed in set bcz set is unordered.\n",
    "print(set1[1])"
   ]
  },
  {
   "cell_type": "code",
   "execution_count": 5,
   "id": "1b134135",
   "metadata": {},
   "outputs": [],
   "source": [
    "#slicing is not allowed in set"
   ]
  },
  {
   "cell_type": "code",
   "execution_count": 6,
   "id": "f9cc5f01",
   "metadata": {},
   "outputs": [
    {
     "name": "stdout",
     "output_type": "stream",
     "text": [
      "<class 'set'>\n",
      "<class 'dict'>\n",
      "<class 'set'>\n"
     ]
    }
   ],
   "source": [
    "#can't create an empty set using {}\n",
    "set3 = {1,4,6,8,3,2,5,75,7,3,2,2,1,-77,-34,7.5,7.5,True,True,\"ria\",\"ria\"}\n",
    "set4 = {}\n",
    "print(type(set3))\n",
    "print(type(set4))\n",
    "\n",
    "#empty set will be created using ()\n",
    "set5 =set()\n",
    "print(type(set5))"
   ]
  },
  {
   "cell_type": "code",
   "execution_count": 7,
   "id": "ad569c31",
   "metadata": {},
   "outputs": [
    {
     "ename": "TypeError",
     "evalue": "'set' object does not support item assignment",
     "output_type": "error",
     "traceback": [
      "\u001b[1;31m---------------------------------------------------------------------------\u001b[0m",
      "\u001b[1;31mTypeError\u001b[0m                                 Traceback (most recent call last)",
      "\u001b[1;32m~\\AppData\\Local\\Temp\\ipykernel_10920\\2785081405.py\u001b[0m in \u001b[0;36m<module>\u001b[1;34m\u001b[0m\n\u001b[0;32m      1\u001b[0m \u001b[1;31m#indexing is not allowed in set bcz set is unordered.\u001b[0m\u001b[1;33m\u001b[0m\u001b[1;33m\u001b[0m\u001b[0m\n\u001b[1;32m----> 2\u001b[1;33m \u001b[0mset1\u001b[0m\u001b[1;33m[\u001b[0m\u001b[1;36m1\u001b[0m\u001b[1;33m]\u001b[0m\u001b[1;33m=\u001b[0m\u001b[1;36m0\u001b[0m\u001b[1;33m\u001b[0m\u001b[1;33m\u001b[0m\u001b[0m\n\u001b[0m",
      "\u001b[1;31mTypeError\u001b[0m: 'set' object does not support item assignment"
     ]
    }
   ],
   "source": [
    "#indexing is not allowed in set bcz set is unordered.\n",
    "set1[1]=0"
   ]
  },
  {
   "cell_type": "code",
   "execution_count": 8,
   "id": "18affe97",
   "metadata": {},
   "outputs": [
    {
     "name": "stdout",
     "output_type": "stream",
     "text": [
      "{99}\n",
      "{(23, 67, True), 99}\n"
     ]
    }
   ],
   "source": [
    "#But we can change in whole set\n",
    "set6 = set()\n",
    "set6.add(99) #one item at a time\n",
    "print(set6)\n",
    "#can add immutable items also\n",
    "set6.add((23,67,True))\n",
    "print(set6)\n",
    "#set use \"hash table\" data structure to store the items hence mutable items can't be added."
   ]
  },
  {
   "cell_type": "code",
   "execution_count": 9,
   "id": "a4e6394e",
   "metadata": {},
   "outputs": [
    {
     "name": "stdout",
     "output_type": "stream",
     "text": [
      "{1, 2, 3, 4, 5, 6, 7, 8, 7.5, 75, -77, 'ria', -34}\n",
      "13\n"
     ]
    }
   ],
   "source": [
    "set1 = {1,4,6,8,3,2,5,75,7,3,2,2,1,-77,-34,7.5,7.5,True,True,\"ria\",\"ria\"}\n",
    "print(set1)\n",
    "print(len(set1)) #duplicate items will not count"
   ]
  },
  {
   "cell_type": "code",
   "execution_count": 10,
   "id": "aae472b3",
   "metadata": {},
   "outputs": [
    {
     "name": "stdout",
     "output_type": "stream",
     "text": [
      "{1, 3, 4, 5, 6, 7, 8, 7.5, 75, -77, 'ria', -34}\n"
     ]
    },
    {
     "ename": "KeyError",
     "evalue": "99",
     "output_type": "error",
     "traceback": [
      "\u001b[1;31m---------------------------------------------------------------------------\u001b[0m",
      "\u001b[1;31mKeyError\u001b[0m                                  Traceback (most recent call last)",
      "\u001b[1;32m~\\AppData\\Local\\Temp\\ipykernel_10920\\951295211.py\u001b[0m in \u001b[0;36m<module>\u001b[1;34m\u001b[0m\n\u001b[0;32m      2\u001b[0m \u001b[0mset7\u001b[0m\u001b[1;33m.\u001b[0m\u001b[0mremove\u001b[0m\u001b[1;33m(\u001b[0m\u001b[1;36m2\u001b[0m\u001b[1;33m)\u001b[0m \u001b[1;31m#it'll remove all 2s from the set(including duplicate also)\u001b[0m\u001b[1;33m\u001b[0m\u001b[1;33m\u001b[0m\u001b[0m\n\u001b[0;32m      3\u001b[0m \u001b[0mprint\u001b[0m\u001b[1;33m(\u001b[0m\u001b[0mset7\u001b[0m\u001b[1;33m)\u001b[0m\u001b[1;33m\u001b[0m\u001b[1;33m\u001b[0m\u001b[0m\n\u001b[1;32m----> 4\u001b[1;33m \u001b[0mset7\u001b[0m\u001b[1;33m.\u001b[0m\u001b[0mremove\u001b[0m\u001b[1;33m(\u001b[0m\u001b[1;36m99\u001b[0m\u001b[1;33m)\u001b[0m \u001b[1;31m#it'll give KeyError bcz 99 is not on the set\u001b[0m\u001b[1;33m\u001b[0m\u001b[1;33m\u001b[0m\u001b[0m\n\u001b[0m\u001b[0;32m      5\u001b[0m \u001b[0mprint\u001b[0m\u001b[1;33m(\u001b[0m\u001b[0mset7\u001b[0m\u001b[1;33m)\u001b[0m\u001b[1;33m\u001b[0m\u001b[1;33m\u001b[0m\u001b[0m\n",
      "\u001b[1;31mKeyError\u001b[0m: 99"
     ]
    }
   ],
   "source": [
    "set7 = {1,4,6,8,3,2,5,75,7,3,2,2,1,-77,-34,7.5,7.5,True,True,\"ria\",\"ria\"}\n",
    "set7.remove(2) #it'll remove all 2s from the set(including duplicate also)\n",
    "print(set7)\n",
    "set7.remove(99) #it'll give KeyError bcz 99 is not on the set\n",
    "print(set7)"
   ]
  },
  {
   "cell_type": "code",
   "execution_count": 11,
   "id": "be9fc442",
   "metadata": {},
   "outputs": [
    {
     "name": "stdout",
     "output_type": "stream",
     "text": [
      "{1, 3, 4, 5, 6, 7, 8, 7.5, 75, -77, 'ria', -34}\n",
      "{1, 3, 4, 5, 6, 7, 8, 7.5, 75, -77, 'ria', -34}\n"
     ]
    }
   ],
   "source": [
    "set8 = {1,4,6,8,3,2,5,75,7,3,2,2,1,-77,-34,7.5,7.5,True,True,\"ria\",\"ria\"}\n",
    "set8.discard(2) #discard all 2s from the set(including duplicate)\n",
    "print(set8)\n",
    "set8.discard(99) #99 is not on the set BUT if item is not on the set, it'll not give any error as remove function gives.\n",
    "print(set8)"
   ]
  },
  {
   "cell_type": "code",
   "execution_count": 12,
   "id": "4d9ccabe",
   "metadata": {},
   "outputs": [
    {
     "name": "stdout",
     "output_type": "stream",
     "text": [
      "set()\n"
     ]
    }
   ],
   "source": [
    "set9 = {1,4,6,8,3,2,5,75,7,3,2,2,1,-77,-34,7.5,7.5,True,True,\"ria\",\"ria\"}\n",
    "set9.clear()\n",
    "print(set9)"
   ]
  },
  {
   "cell_type": "code",
   "execution_count": 13,
   "id": "78af952f",
   "metadata": {},
   "outputs": [
    {
     "name": "stdout",
     "output_type": "stream",
     "text": [
      "1\n",
      "{2, 3, 4, 5, 6, 7, 8, 7.5, 75, -77, 'ria', -34}\n"
     ]
    }
   ],
   "source": [
    "set11 = {1,4,6,8,3,2,5,75,7,3,2,2,1,-77,-34,7.5,7.5,True,True,\"ria\",\"ria\"}\n",
    "print(set11.pop()) #remove any random item from the set and it'll return that item also\n",
    "print(set11)"
   ]
  },
  {
   "cell_type": "code",
   "execution_count": null,
   "id": "26e65b0f",
   "metadata": {},
   "outputs": [],
   "source": []
  },
  {
   "cell_type": "code",
   "execution_count": null,
   "id": "2a0611d6",
   "metadata": {},
   "outputs": [],
   "source": []
  },
  {
   "cell_type": "code",
   "execution_count": null,
   "id": "f5f7955d",
   "metadata": {},
   "outputs": [],
   "source": []
  },
  {
   "cell_type": "code",
   "execution_count": 54,
   "id": "fe8a0d2f",
   "metadata": {},
   "outputs": [],
   "source": [
    "#lec41part2 -- union, update, intersection, intersection_update"
   ]
  },
  {
   "cell_type": "code",
   "execution_count": 68,
   "id": "649e164c",
   "metadata": {},
   "outputs": [],
   "source": [
    "# s1 union s2 = gives all the values of both sets but not the duplicates. Also it'll not change the values of original sets(basically in which set you are performing the operation)\n",
    "# s1 update s2 = gives all the values of both sets but not the duplicates. Also it'll update the values of original sets(basically in which set you are performing the operation)\n",
    "# s1 intersection s2 = gives common values. Not change the original values of the set on which you are performing the operations\n",
    "# s1 intersection_update s2 = gives common values. Update the original values of the set on which you are performing the operations"
   ]
  },
  {
   "cell_type": "code",
   "execution_count": 46,
   "id": "1ec052ca",
   "metadata": {},
   "outputs": [
    {
     "name": "stdout",
     "output_type": "stream",
     "text": [
      "{1, 2, 3, 4, 5, 6}\n",
      "{1, 2, 3, 4, 5, 6, 7, 8}\n",
      "{1, 2, 3, 4, 9, 10}\n",
      "{1, 2, 3, 4, 9, 10}\n",
      "{1, 2, 3, 4, 5, 6}\n",
      "{1, 2, 3, 4, 5, 6, 7, 8}\n"
     ]
    },
    {
     "ename": "TypeError",
     "evalue": "unsupported operand type(s) for |: 'set' and 'tuple'",
     "output_type": "error",
     "traceback": [
      "\u001b[1;31m---------------------------------------------------------------------------\u001b[0m",
      "\u001b[1;31mTypeError\u001b[0m                                 Traceback (most recent call last)",
      "\u001b[1;32m~\\AppData\\Local\\Temp\\ipykernel_10920\\1639357086.py\u001b[0m in \u001b[0;36m<module>\u001b[1;34m\u001b[0m\n\u001b[0;32m     12\u001b[0m \u001b[0mprint\u001b[0m\u001b[1;33m(\u001b[0m\u001b[0ms1\u001b[0m\u001b[1;33m|\u001b[0m\u001b[0ms2\u001b[0m\u001b[1;33m)\u001b[0m\u001b[1;33m\u001b[0m\u001b[1;33m\u001b[0m\u001b[0m\n\u001b[0;32m     13\u001b[0m \u001b[0mprint\u001b[0m\u001b[1;33m(\u001b[0m\u001b[0ms1\u001b[0m\u001b[1;33m|\u001b[0m\u001b[0ms2\u001b[0m\u001b[1;33m|\u001b[0m\u001b[0ms3\u001b[0m\u001b[1;33m)\u001b[0m\u001b[1;33m\u001b[0m\u001b[1;33m\u001b[0m\u001b[0m\n\u001b[1;32m---> 14\u001b[1;33m \u001b[0mprint\u001b[0m\u001b[1;33m(\u001b[0m\u001b[0ms1\u001b[0m\u001b[1;33m|\u001b[0m\u001b[1;33m(\u001b[0m\u001b[1;36m9\u001b[0m\u001b[1;33m,\u001b[0m\u001b[1;36m10\u001b[0m\u001b[1;33m)\u001b[0m\u001b[1;33m)\u001b[0m\u001b[1;33m\u001b[0m\u001b[1;33m\u001b[0m\u001b[0m\n\u001b[0m\u001b[0;32m     15\u001b[0m \u001b[1;33m\u001b[0m\u001b[0m\n",
      "\u001b[1;31mTypeError\u001b[0m: unsupported operand type(s) for |: 'set' and 'tuple'"
     ]
    }
   ],
   "source": [
    "s1 = {1,2,3,4}\n",
    "s2 = {3,4,5,6}\n",
    "s3 = {7,8}\n",
    "# Two types of operators for union of sets(but with subtle difference)\n",
    "#union operator - Both the operands should not be sets only,it can be list, tuple,set etc. So also allows other objects for union \n",
    "print(s1.union(s2))\n",
    "print(s1.union(s2,s3))\n",
    "print(s1.union((9,10)))\n",
    "print(s1.union([9,10]))\n",
    "\n",
    "# | operator - Both the operands should be sets. Not allows other objects for union\n",
    "print(s1|s2)\n",
    "print(s1|s2|s3)\n",
    "print(s1|(9,10))\n",
    "\n"
   ]
  },
  {
   "cell_type": "code",
   "execution_count": 90,
   "id": "aa603774",
   "metadata": {},
   "outputs": [
    {
     "name": "stdout",
     "output_type": "stream",
     "text": [
      "{1, 2, 3, 4, 5, 6}\n",
      "{1, 2, 3, 4, 5, 6}\n",
      "{7, 8, 'ram', 13, -5}\n",
      "{1, 2, 3, 4}\n"
     ]
    }
   ],
   "source": [
    "s1 = {1,2,3,4}\n",
    "s2 = {3,4,5,6}\n",
    "s3 = {7,8}\n",
    "s2.update(s1) #add values of s1 to s2. It is union update of any set means without duplicate items\n",
    "print(s2)\n",
    "s1.update(s2) #add values of s2 to s1\n",
    "print(s1)\n",
    "s3.update([\"ram\",13,-5,7])\n",
    "print(s3)\n",
    "# we can update with the help of |= operator also. s1 |= s2 It'll update s1 with the help of s2 values and no duplicates are allowed.\n",
    "s1={1,2}\n",
    "s2 ={2,3,4}\n",
    "s1|=s2\n",
    "print(s1)"
   ]
  },
  {
   "cell_type": "code",
   "execution_count": 48,
   "id": "863aa408",
   "metadata": {},
   "outputs": [
    {
     "name": "stdout",
     "output_type": "stream",
     "text": [
      "{3, 4}\n",
      "set()\n",
      "set()\n",
      "{1, 2}\n",
      "{3, 4}\n",
      "set()\n"
     ]
    },
    {
     "ename": "TypeError",
     "evalue": "unsupported operand type(s) for &: 'set' and 'list'",
     "output_type": "error",
     "traceback": [
      "\u001b[1;31m---------------------------------------------------------------------------\u001b[0m",
      "\u001b[1;31mTypeError\u001b[0m                                 Traceback (most recent call last)",
      "\u001b[1;32m~\\AppData\\Local\\Temp\\ipykernel_10920\\2407894546.py\u001b[0m in \u001b[0;36m<module>\u001b[1;34m\u001b[0m\n\u001b[0;32m      9\u001b[0m \u001b[0mprint\u001b[0m\u001b[1;33m(\u001b[0m\u001b[0ms1\u001b[0m \u001b[1;33m&\u001b[0m \u001b[0ms2\u001b[0m\u001b[1;33m)\u001b[0m \u001b[1;31m#intersection with the help of & operator\u001b[0m\u001b[1;33m\u001b[0m\u001b[1;33m\u001b[0m\u001b[0m\n\u001b[0;32m     10\u001b[0m \u001b[0mprint\u001b[0m\u001b[1;33m(\u001b[0m\u001b[0ms1\u001b[0m \u001b[1;33m&\u001b[0m \u001b[0ms2\u001b[0m \u001b[1;33m&\u001b[0m \u001b[0ms3\u001b[0m\u001b[1;33m)\u001b[0m\u001b[1;33m\u001b[0m\u001b[1;33m\u001b[0m\u001b[0m\n\u001b[1;32m---> 11\u001b[1;33m \u001b[0mprint\u001b[0m\u001b[1;33m(\u001b[0m\u001b[0ms1\u001b[0m \u001b[1;33m&\u001b[0m \u001b[1;33m[\u001b[0m\u001b[1;34m\"thomas\"\u001b[0m\u001b[1;33m,\u001b[0m\u001b[1;36m1\u001b[0m\u001b[1;33m,\u001b[0m\u001b[1;36m4\u001b[0m\u001b[1;33m]\u001b[0m\u001b[1;33m)\u001b[0m \u001b[1;31m#not allowed, all should be sets\u001b[0m\u001b[1;33m\u001b[0m\u001b[1;33m\u001b[0m\u001b[0m\n\u001b[0m\u001b[0;32m     12\u001b[0m \u001b[0mprint\u001b[0m\u001b[1;33m(\u001b[0m\u001b[0ms1\u001b[0m \u001b[1;33m&\u001b[0m \u001b[1;33m(\u001b[0m\u001b[1;34m\"thomas\"\u001b[0m\u001b[1;33m,\u001b[0m\u001b[1;36m1\u001b[0m\u001b[1;33m,\u001b[0m\u001b[1;36m4\u001b[0m\u001b[1;33m)\u001b[0m\u001b[1;33m)\u001b[0m \u001b[1;31m#not allowed, all should be sets\u001b[0m\u001b[1;33m\u001b[0m\u001b[1;33m\u001b[0m\u001b[0m\n",
      "\u001b[1;31mTypeError\u001b[0m: unsupported operand type(s) for &: 'set' and 'list'"
     ]
    }
   ],
   "source": [
    "s1 = {1,2,3,4}\n",
    "s2 = {3,4,5,6}\n",
    "s3 = {7,8}\n",
    "#gives common values\n",
    "print(s1.intersection(s2))\n",
    "print(s1.intersection(s2,s3))\n",
    "print(s1.intersection([\"ram\",\"sita\"]))\n",
    "print(s1.intersection([\"ram\",\"sita\",1,2]))\n",
    "print(s1 & s2) #intersection with the help of & operator\n",
    "print(s1 & s2 & s3)\n",
    "print(s1 & [\"thomas\",1,4]) #not allowed, all should be sets\n",
    "print(s1 & (\"thomas\",1,4)) #not allowed, all should be sets"
   ]
  },
  {
   "cell_type": "code",
   "execution_count": 52,
   "id": "5d97c692",
   "metadata": {},
   "outputs": [
    {
     "name": "stdout",
     "output_type": "stream",
     "text": [
      "{3, 4}\n",
      "{3, 4, 5, 6}\n",
      "{3}\n"
     ]
    }
   ],
   "source": [
    "s1 = {1,2,3,4}\n",
    "s2 = {3,4,5,6}\n",
    "s3 = {7,8}\n",
    "s1.intersection_update(s2)\n",
    "print(s1)\n",
    "print(s2)\n",
    "s2.intersection_update([\"ram\",1,3])\n",
    "print(s2)"
   ]
  },
  {
   "cell_type": "code",
   "execution_count": null,
   "id": "6b4956f9",
   "metadata": {},
   "outputs": [],
   "source": []
  },
  {
   "cell_type": "code",
   "execution_count": null,
   "id": "fedd40d8",
   "metadata": {},
   "outputs": [],
   "source": []
  },
  {
   "cell_type": "code",
   "execution_count": null,
   "id": "bcacc67d",
   "metadata": {},
   "outputs": [],
   "source": []
  },
  {
   "cell_type": "code",
   "execution_count": null,
   "id": "57316d0c",
   "metadata": {},
   "outputs": [],
   "source": []
  },
  {
   "cell_type": "code",
   "execution_count": 55,
   "id": "5a3d115d",
   "metadata": {},
   "outputs": [],
   "source": [
    "#lec41part3 -- difference, difference_update, symmetric_difference, symmetric_difference_update"
   ]
  },
  {
   "cell_type": "code",
   "execution_count": null,
   "id": "56ba8eb3",
   "metadata": {},
   "outputs": [],
   "source": [
    "#mathematical formula\n",
    "# s1 difference s2 = items of s1 which are not in s2 (BUT it'll not update the original set values of s1(basically in which set you are performing the operation))\n",
    "# s1 difference_update s2 = items of s1 which are not in s2 (BUT it'll update the original set values s1(basically in which set you are performing the operation))\n",
    "# symmetric_difference of set = (set1 union set2)-(set1 intersection set2)\n",
    "# s1 symmetric_difference s2 = set of all the elements which are either in s1 or s2 but not in both.\n",
    "# s1 symmetric_difference_update s2 = set of all the elements which are either in s1 or s2 but not in both.BUT it'll update the original set values s1(basically in which set you are performing the operation))"
   ]
  },
  {
   "cell_type": "code",
   "execution_count": 66,
   "id": "62998888",
   "metadata": {},
   "outputs": [
    {
     "name": "stdout",
     "output_type": "stream",
     "text": [
      "{1, 2}\n",
      "{2}\n",
      "{1, 2}\n",
      "{1, 4}\n"
     ]
    }
   ],
   "source": [
    "s1 = {1,2,3,4}\n",
    "s2 = {3,4,5,6}\n",
    "s3 = {7,8,1}\n",
    "print(s1.difference(s2))\n",
    "print(s1.difference(s2,s3))\n",
    "print(s1-s2)\n",
    "print(s1.difference((3,2)))\n"
   ]
  },
  {
   "cell_type": "code",
   "execution_count": 67,
   "id": "220234b7",
   "metadata": {},
   "outputs": [
    {
     "name": "stdout",
     "output_type": "stream",
     "text": [
      "{1, 2}\n",
      "{8, 1}\n"
     ]
    }
   ],
   "source": [
    "s1 = {1,2,3,4}\n",
    "s2 = {3,4,5,6}\n",
    "s3 = {7,8,1}\n",
    "s1.difference_update(s2)\n",
    "print(s1)\n",
    "s3.difference_update([2,7,0])\n",
    "print(s3)\n"
   ]
  },
  {
   "cell_type": "code",
   "execution_count": 74,
   "id": "fe11bfa3",
   "metadata": {},
   "outputs": [
    {
     "name": "stdout",
     "output_type": "stream",
     "text": [
      "{1, 2, 5, 6}\n",
      "{1, 2, 5, 6}\n",
      "{2, 5, 6, 7, 8}\n"
     ]
    },
    {
     "ename": "TypeError",
     "evalue": "set.symmetric_difference() takes exactly one argument (2 given)",
     "output_type": "error",
     "traceback": [
      "\u001b[1;31m---------------------------------------------------------------------------\u001b[0m",
      "\u001b[1;31mTypeError\u001b[0m                                 Traceback (most recent call last)",
      "\u001b[1;32m~\\AppData\\Local\\Temp\\ipykernel_10920\\594231278.py\u001b[0m in \u001b[0;36m<module>\u001b[1;34m\u001b[0m\n\u001b[0;32m      5\u001b[0m \u001b[0mprint\u001b[0m\u001b[1;33m(\u001b[0m\u001b[0ms1\u001b[0m \u001b[1;33m^\u001b[0m \u001b[0ms2\u001b[0m\u001b[1;33m)\u001b[0m\u001b[1;33m\u001b[0m\u001b[1;33m\u001b[0m\u001b[0m\n\u001b[0;32m      6\u001b[0m \u001b[0mprint\u001b[0m\u001b[1;33m(\u001b[0m\u001b[0ms1\u001b[0m \u001b[1;33m^\u001b[0m \u001b[0ms2\u001b[0m \u001b[1;33m^\u001b[0m \u001b[0ms3\u001b[0m\u001b[1;33m)\u001b[0m \u001b[1;31m#this can apply on multiple sets\u001b[0m\u001b[1;33m\u001b[0m\u001b[1;33m\u001b[0m\u001b[0m\n\u001b[1;32m----> 7\u001b[1;33m \u001b[0mprint\u001b[0m\u001b[1;33m(\u001b[0m\u001b[0ms1\u001b[0m\u001b[1;33m.\u001b[0m\u001b[0msymmetric_difference\u001b[0m\u001b[1;33m(\u001b[0m\u001b[0ms2\u001b[0m\u001b[1;33m,\u001b[0m\u001b[0ms3\u001b[0m\u001b[1;33m)\u001b[0m\u001b[1;33m)\u001b[0m \u001b[1;31m#this can't apply on multiple sets bcz set.symmetric_difference() takes exactly one argument (2 given)\u001b[0m\u001b[1;33m\u001b[0m\u001b[1;33m\u001b[0m\u001b[0m\n\u001b[0m",
      "\u001b[1;31mTypeError\u001b[0m: set.symmetric_difference() takes exactly one argument (2 given)"
     ]
    }
   ],
   "source": [
    "s1 = {1,2,3,4}\n",
    "s2 = {3,4,5,6}\n",
    "s3 = {7,8,1}\n",
    "print(s1.symmetric_difference(s2))\n",
    "print(s1 ^ s2)\n",
    "print(s1 ^ s2 ^ s3) #this can apply on multiple sets\n",
    "print(s1.symmetric_difference(s2,s3)) #this can't apply on multiple sets bcz set.symmetric_difference() takes exactly one argument (2 given)"
   ]
  },
  {
   "cell_type": "code",
   "execution_count": 77,
   "id": "72dbe0bc",
   "metadata": {},
   "outputs": [
    {
     "name": "stdout",
     "output_type": "stream",
     "text": [
      "{1, 2, 5, 6}\n",
      "{0, 3, 4, 99, 77}\n"
     ]
    }
   ],
   "source": [
    "s1 = {1,2,3,4}\n",
    "s2 = {3,4,5,6}\n",
    "s3 = {7,8,1}\n",
    "s2.symmetric_difference_update(s1)\n",
    "print(s2)\n",
    "s1.symmetric_difference_update((1,2,77,99,0))\n",
    "print(s1)"
   ]
  },
  {
   "cell_type": "code",
   "execution_count": null,
   "id": "b2319a95",
   "metadata": {},
   "outputs": [],
   "source": []
  },
  {
   "cell_type": "code",
   "execution_count": null,
   "id": "80b0cfe8",
   "metadata": {},
   "outputs": [],
   "source": []
  },
  {
   "cell_type": "code",
   "execution_count": null,
   "id": "ca7440c8",
   "metadata": {},
   "outputs": [],
   "source": []
  },
  {
   "cell_type": "code",
   "execution_count": null,
   "id": "8f35b97b",
   "metadata": {},
   "outputs": [],
   "source": []
  },
  {
   "cell_type": "code",
   "execution_count": 78,
   "id": "48d4be7c",
   "metadata": {},
   "outputs": [],
   "source": [
    "#lec41part4 disjoint set, subset and superset"
   ]
  },
  {
   "cell_type": "code",
   "execution_count": 79,
   "id": "325f8d23",
   "metadata": {},
   "outputs": [],
   "source": [
    "# Disjoint set(no special symbol) - Both sets have nothing in common. Their intersection is an empty set.\n",
    "# Subset(<=) - s1 is subset of s2 if every element of s1 is in s2\n",
    "# Superset(>=) - s1 is superset of s2 if s1 contains every element of s2(or if every element of s2 is in s1 )"
   ]
  },
  {
   "cell_type": "code",
   "execution_count": 81,
   "id": "1dd86d12",
   "metadata": {},
   "outputs": [
    {
     "name": "stdout",
     "output_type": "stream",
     "text": [
      "True\n",
      "False\n"
     ]
    }
   ],
   "source": [
    "#disjoint\n",
    "s1={1,2,3,4}\n",
    "s2 ={5,6,7,8}\n",
    "print(s1.isdisjoint(s2))\n",
    "print(s1.isdisjoint([1,2,45,765]))"
   ]
  },
  {
   "cell_type": "code",
   "execution_count": 85,
   "id": "4459465d",
   "metadata": {},
   "outputs": [
    {
     "name": "stdout",
     "output_type": "stream",
     "text": [
      "True\n",
      "False\n",
      "True\n",
      "True\n",
      "False\n"
     ]
    }
   ],
   "source": [
    "#subset\n",
    "s1={1,2,3,4}\n",
    "s2 ={1,2,3,4,5,6,7,8}\n",
    "print(s1.issubset(s2))\n",
    "print(s2.issubset(s1))\n",
    "print(s1<=s2)\n",
    "print(s1<=s1)\n",
    "print(s1.issubset([1,2,45,765]))"
   ]
  },
  {
   "cell_type": "code",
   "execution_count": 86,
   "id": "b475c908",
   "metadata": {},
   "outputs": [
    {
     "name": "stdout",
     "output_type": "stream",
     "text": [
      "True\n",
      "False\n",
      "True\n",
      "True\n",
      "False\n"
     ]
    }
   ],
   "source": [
    "#superset\n",
    "s1 ={1,2,3,4,5,6,7,8}\n",
    "s2={1,2,3,4}\n",
    "print(s1.issuperset(s2))\n",
    "print(s2.issuperset(s1))\n",
    "print(s1>=s2)\n",
    "print(s1>=s1)\n",
    "print(s1.issuperset([1,2,45,765]))"
   ]
  },
  {
   "cell_type": "code",
   "execution_count": null,
   "id": "a5111e47",
   "metadata": {},
   "outputs": [],
   "source": []
  },
  {
   "cell_type": "code",
   "execution_count": 88,
   "id": "b2878199",
   "metadata": {},
   "outputs": [
    {
     "name": "stdout",
     "output_type": "stream",
     "text": [
      "set()\n"
     ]
    },
    {
     "ename": "NameError",
     "evalue": "name 'set2' is not defined",
     "output_type": "error",
     "traceback": [
      "\u001b[1;31m---------------------------------------------------------------------------\u001b[0m",
      "\u001b[1;31mNameError\u001b[0m                                 Traceback (most recent call last)",
      "\u001b[1;32m~\\AppData\\Local\\Temp\\ipykernel_10920\\2390606270.py\u001b[0m in \u001b[0;36m<module>\u001b[1;34m\u001b[0m\n\u001b[0;32m      5\u001b[0m \u001b[0mset2\u001b[0m \u001b[1;33m=\u001b[0m \u001b[1;33m{\u001b[0m\u001b[1;36m1\u001b[0m\u001b[1;33m,\u001b[0m\u001b[1;36m4\u001b[0m\u001b[1;33m,\u001b[0m\u001b[1;36m6\u001b[0m\u001b[1;33m,\u001b[0m\u001b[1;36m8\u001b[0m\u001b[1;33m}\u001b[0m\u001b[1;33m\u001b[0m\u001b[1;33m\u001b[0m\u001b[0m\n\u001b[0;32m      6\u001b[0m \u001b[1;32mdel\u001b[0m\u001b[1;33m(\u001b[0m\u001b[0mset2\u001b[0m\u001b[1;33m)\u001b[0m\u001b[1;33m\u001b[0m\u001b[1;33m\u001b[0m\u001b[0m\n\u001b[1;32m----> 7\u001b[1;33m \u001b[0mprint\u001b[0m\u001b[1;33m(\u001b[0m\u001b[0mset2\u001b[0m\u001b[1;33m)\u001b[0m\u001b[1;33m\u001b[0m\u001b[1;33m\u001b[0m\u001b[0m\n\u001b[0m",
      "\u001b[1;31mNameError\u001b[0m: name 'set2' is not defined"
     ]
    }
   ],
   "source": [
    "# clear and del difference - clear only empty out the set but del deletes the whole set\n",
    "set1 = {1,4,6,8}\n",
    "set1.clear()\n",
    "print(set1)\n",
    "set2 = {1,4,6,8}\n",
    "del(set2)\n",
    "print(set2) # set2 is not defined bcz there is no set present in the memory due to del keyword.It deleted the set2."
   ]
  },
  {
   "cell_type": "code",
   "execution_count": null,
   "id": "69114d57",
   "metadata": {},
   "outputs": [],
   "source": []
  }
 ],
 "metadata": {
  "kernelspec": {
   "display_name": "Python 3 (ipykernel)",
   "language": "python",
   "name": "python3"
  },
  "language_info": {
   "codemirror_mode": {
    "name": "ipython",
    "version": 3
   },
   "file_extension": ".py",
   "mimetype": "text/x-python",
   "name": "python",
   "nbconvert_exporter": "python",
   "pygments_lexer": "ipython3",
   "version": "3.9.13"
  }
 },
 "nbformat": 4,
 "nbformat_minor": 5
}
