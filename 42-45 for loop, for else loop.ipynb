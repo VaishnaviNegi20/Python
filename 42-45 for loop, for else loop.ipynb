{
 "cells": [
  {
   "cell_type": "code",
   "execution_count": 1,
   "id": "321e0372",
   "metadata": {},
   "outputs": [
    {
     "name": "stdout",
     "output_type": "stream",
     "text": [
      "[4, 16, 25, 100, 2025, 4489, 6.25]\n"
     ]
    }
   ],
   "source": [
    "#square of numbers(o/p should be in the list form)\n",
    "numbers = [2,4,-5,10,45,67,2.5]\n",
    "squares = []\n",
    "for i in numbers:\n",
    "    square = i**2\n",
    "    squares.append(square)\n",
    "print(squares)\n",
    "    "
   ]
  },
  {
   "cell_type": "code",
   "execution_count": 2,
   "id": "237348fa",
   "metadata": {},
   "outputs": [],
   "source": [
    "# In for else loop, else block will execute only if for loop is completed successfully without any error,break,continue,pass statement."
   ]
  },
  {
   "cell_type": "code",
   "execution_count": 3,
   "id": "1aa9d1b3",
   "metadata": {},
   "outputs": [
    {
     "name": "stdout",
     "output_type": "stream",
     "text": [
      "no number is divisible by 6\n",
      "no number is divisible by 6\n",
      "no number is divisible by 6\n",
      "no number is divisible by 6\n",
      "no number is divisible by 6\n",
      "no number is divisible by 6\n",
      "no number is divisible by 6\n"
     ]
    }
   ],
   "source": [
    "tuple1 = (1,3,4,8,99,-5,81)\n",
    "for i in tuple1:\n",
    "    if i%6==0:\n",
    "        print(i)\n",
    "        break\n",
    "    else:\n",
    "        print(\"no number is divisible by 6\")"
   ]
  },
  {
   "cell_type": "code",
   "execution_count": 4,
   "id": "10b5092d",
   "metadata": {},
   "outputs": [
    {
     "name": "stdout",
     "output_type": "stream",
     "text": [
      "no number is divisible by 6\n"
     ]
    }
   ],
   "source": [
    "#we want that only one time the else statement would print\n",
    "#for that use for else loop\n",
    "\n",
    "tuple1 = (1,3,4,8,99,-5,81)\n",
    "for i in tuple1:\n",
    "    if i%6==0:\n",
    "        print(i)\n",
    "        break\n",
    "else:\n",
    "    print(\"no number is divisible by 6\")   "
   ]
  },
  {
   "cell_type": "code",
   "execution_count": 5,
   "id": "c5012dc6",
   "metadata": {},
   "outputs": [
    {
     "name": "stdout",
     "output_type": "stream",
     "text": [
      "6\n"
     ]
    }
   ],
   "source": [
    "#if there is a number divisible by 6\n",
    "#for loop will not completed successfully that's why else block will not execute\n",
    "\n",
    "tuple1 = (1,3,4,8,99,-5,6,81)\n",
    "for i in tuple1:\n",
    "    if i%6==0:\n",
    "        print(i)\n",
    "        break\n",
    "else:\n",
    "    print(\"no number is divisible by 6\")   "
   ]
  },
  {
   "cell_type": "code",
   "execution_count": 6,
   "id": "179ed111",
   "metadata": {},
   "outputs": [
    {
     "name": "stdout",
     "output_type": "stream",
     "text": [
      "enter heights separated by a comma : 156,190,168,180\n",
      "Average height(rounded) is 174.\n"
     ]
    }
   ],
   "source": [
    "#exercise14 - program to find avg height without sum() and len()\n",
    "\n",
    "#method1\n",
    "heights = input(\"enter heights separated by a comma : \")\n",
    "heights_list = heights.split(\",\")\n",
    "#print(heights_list)\n",
    "heights_list_int = []\n",
    "\n",
    "for i in heights_list:\n",
    "    i= int(i)\n",
    "    heights_list_int.append(i)\n",
    "#print(height_list_int)\n",
    " \n",
    "count = 0    \n",
    "for j in heights_list_int:\n",
    "    count += 1\n",
    "#print(count)\n",
    "    \n",
    "add_heights = 0\n",
    "for k in range(count):\n",
    "    add_heights += heights_list_int[k]\n",
    "\n",
    "average_height= add_heights/count\n",
    "average_height_round = round(average_height)\n",
    "\n",
    "print(f\"Average height(rounded) is {average_height_round}.\")\n"
   ]
  },
  {
   "cell_type": "code",
   "execution_count": 7,
   "id": "54b678ed",
   "metadata": {},
   "outputs": [
    {
     "name": "stdout",
     "output_type": "stream",
     "text": [
      "0\n",
      "1\n",
      "2\n"
     ]
    }
   ],
   "source": [
    "x =range(3)\n",
    "for i in range(3):\n",
    "    print(i)"
   ]
  },
  {
   "cell_type": "code",
   "execution_count": 8,
   "id": "033dcd0b",
   "metadata": {},
   "outputs": [
    {
     "name": "stdout",
     "output_type": "stream",
     "text": [
      "Help on built-in function round in module builtins:\n",
      "\n",
      "round(number, ndigits=None)\n",
      "    Round a number to a given precision in decimal digits.\n",
      "    \n",
      "    The return value is an integer if ndigits is omitted or None.  Otherwise\n",
      "    the return value has the same type as the number.  ndigits may be negative.\n",
      "\n"
     ]
    }
   ],
   "source": [
    "help(round)"
   ]
  },
  {
   "cell_type": "code",
   "execution_count": 10,
   "id": "2be21e1a",
   "metadata": {},
   "outputs": [
    {
     "name": "stdout",
     "output_type": "stream",
     "text": [
      "enter heights separated by space : 100 158 145 180\n",
      "average height is  146\n"
     ]
    }
   ],
   "source": [
    "#exercise - program to find avg height without sum() and len()\n",
    "\n",
    "#method2\n",
    "\n",
    "heights = input(\"enter heights separated by space : \")\n",
    "heights_list = heights.split(\" \")\n",
    "\n",
    "count=0\n",
    "for j in heights_list:\n",
    "    count+=1\n",
    "\n",
    "for i in range(count):\n",
    "    heights_list[i] = int(heights_list[i])\n",
    "\n",
    "sum = 0\n",
    "for k in heights_list:\n",
    "    sum += k\n",
    "\n",
    "avg_height = round(sum/count)\n",
    "print(\"average height is \", avg_height)\n",
    "    "
   ]
  },
  {
   "cell_type": "code",
   "execution_count": 11,
   "id": "1481de8b",
   "metadata": {},
   "outputs": [
    {
     "name": "stdout",
     "output_type": "stream",
     "text": [
      "enter numbers separated by space : 25 524 5665 534 -223 4 0 9999\n",
      "8\n",
      "[25, 524, 5665, 534, -223, 4, 0, 9999]\n",
      "Maximum number in the list is 9999\n"
     ]
    }
   ],
   "source": [
    "#exercise15 - find maximum number from a list of numbers without max() and len()\n",
    "\n",
    "numbers = input(\"enter numbers separated by space : \")\n",
    "numbers_list = numbers.split(\" \")\n",
    "\n",
    "count = 0\n",
    "for j in numbers_list:\n",
    "    count += 1\n",
    "#print(count)    \n",
    "\n",
    "for i in range(count):\n",
    "    numbers_list[i] = int(numbers_list[i])\n",
    "#print(numbers_list)\n",
    "\n",
    "maximum_number = numbers_list[0]\n",
    "for k in range(count):\n",
    "    if maximum_number < numbers_list[k]:\n",
    "        maximum_number = numbers_list[k]\n",
    "\n",
    "print(f\"Maximum number in the list is {maximum_number}\")\n",
    "    "
   ]
  },
  {
   "cell_type": "code",
   "execution_count": null,
   "id": "925fe71e",
   "metadata": {},
   "outputs": [],
   "source": []
  },
  {
   "cell_type": "code",
   "execution_count": null,
   "id": "e6f2ae2b",
   "metadata": {},
   "outputs": [],
   "source": []
  }
 ],
 "metadata": {
  "kernelspec": {
   "display_name": "Python 3 (ipykernel)",
   "language": "python",
   "name": "python3"
  },
  "language_info": {
   "codemirror_mode": {
    "name": "ipython",
    "version": 3
   },
   "file_extension": ".py",
   "mimetype": "text/x-python",
   "name": "python",
   "nbconvert_exporter": "python",
   "pygments_lexer": "ipython3",
   "version": "3.9.13"
  }
 },
 "nbformat": 4,
 "nbformat_minor": 5
}
