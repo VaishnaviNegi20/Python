{
 "cells": [
  {
   "cell_type": "code",
   "execution_count": 2,
   "id": "e440de24",
   "metadata": {},
   "outputs": [
    {
     "name": "stdout",
     "output_type": "stream",
     "text": [
      "1\n",
      "2\n",
      "3\n",
      "4\n",
      "5\n",
      "out of while loop\n"
     ]
    }
   ],
   "source": [
    "count = 1\n",
    "while count<=5:\n",
    "    print(count)\n",
    "    count += 1\n",
    "print(\"out of while loop\")"
   ]
  },
  {
   "cell_type": "code",
   "execution_count": 3,
   "id": "e30bd113",
   "metadata": {},
   "outputs": [
    {
     "name": "stdout",
     "output_type": "stream",
     "text": [
      "5\n",
      "4\n",
      "3\n",
      "2\n",
      "1\n",
      "out of while loop\n"
     ]
    }
   ],
   "source": [
    "count = 5\n",
    "while count>0:\n",
    "    print(count)\n",
    "    count -= 1\n",
    "print(\"out of while loop\")"
   ]
  },
  {
   "cell_type": "code",
   "execution_count": 4,
   "id": "4a932b3d",
   "metadata": {},
   "outputs": [
    {
     "name": "stdout",
     "output_type": "stream",
     "text": [
      "1\n",
      "2\n",
      "3\n",
      "4\n",
      "5\n",
      "in the else loop\n",
      "out of the loop\n"
     ]
    }
   ],
   "source": [
    "#when while loop is successfully completed and not forcefully terminated using break etc. Else will execute\n",
    "count = 1\n",
    "while count<=5:\n",
    "    print(count)\n",
    "    count += 1\n",
    "else:\n",
    "    print(\"in the else loop\")\n",
    "print(\"out of the loop\")"
   ]
  },
  {
   "cell_type": "code",
   "execution_count": 5,
   "id": "3dba0819",
   "metadata": {},
   "outputs": [
    {
     "name": "stdout",
     "output_type": "stream",
     "text": [
      "1\n",
      "2\n",
      "out of the loop\n"
     ]
    }
   ],
   "source": [
    "#when while loop is not completed successfully and forcefully terminated using break etc. Else will not execute\n",
    "count = 1\n",
    "while count<=5:\n",
    "    print(count)\n",
    "    count += 1\n",
    "    if count == 3:\n",
    "        break\n",
    "else:\n",
    "    print(\"in the else loop\")\n",
    "print(\"out of the loop\")"
   ]
  },
  {
   "cell_type": "code",
   "execution_count": 6,
   "id": "3156d245",
   "metadata": {},
   "outputs": [
    {
     "name": "stdout",
     "output_type": "stream",
     "text": [
      "enter a number(-1 to quit)23\n",
      "23\n",
      "enter a number(-1 to quit)34\n",
      "34\n",
      "enter a number(-1 to quit)6\n",
      "6\n",
      "enter a number(-1 to quit)-0\n",
      "0\n",
      "enter a number(-1 to quit)0\n",
      "0\n",
      "enter a number(-1 to quit)-7\n",
      "-7\n",
      "enter a number(-1 to quit)-1\n",
      "in the else loop\n",
      "out of the loop\n"
     ]
    }
   ],
   "source": [
    "# difference between for and while loop\n",
    "# To use a for loop, we know in advance how many times we have to iterate the loop\n",
    "# To use a while loop, we don't know how many times we have to iterate the while loop\n",
    "\n",
    "number = int(input(\"enter a number(-1 to quit)\")) #here -1 is called Sentinel value which is a special value to termiante the while loop\n",
    "while number != -1:\n",
    "    print(number)\n",
    "    number = int(input(\"enter a number(-1 to quit)\"))\n",
    "else:\n",
    "    print(\"in the else loop\")\n",
    "print(\"out of the loop\")\n",
    "\n",
    "#in this code, the user is deciding when to terminate the loop(How many times the loop will iterate). We don't know this in advance"
   ]
  },
  {
   "cell_type": "code",
   "execution_count": 8,
   "id": "b349588e",
   "metadata": {},
   "outputs": [
    {
     "name": "stdout",
     "output_type": "stream",
     "text": [
      "0\n",
      "1\n",
      "2\n",
      "3\n",
      "4\n",
      "out of the loop\n"
     ]
    }
   ],
   "source": [
    "count = 0\n",
    "while True:\n",
    "    print(count)\n",
    "    count+=1\n",
    "    if count == 5:\n",
    "        break\n",
    "else:\n",
    "    print(\"in else block\")\n",
    "print(\"out of the loop\")\n",
    "\n",
    "#this loop will always be True if we don't provide any break condition and loop will run forever.\n"
   ]
  },
  {
   "cell_type": "code",
   "execution_count": 12,
   "id": "33ff7d79",
   "metadata": {},
   "outputs": [
    {
     "name": "stdout",
     "output_type": "stream",
     "text": [
      "Enter a number (enter 0 to quit)1\n",
      "Enter a number (enter 0 to quit)2\n",
      "Enter a number (enter 0 to quit)3\n",
      "Enter a number (enter 0 to quit)-1\n",
      "Enter a number (enter 0 to quit)0\n",
      "sum of the numbers is :  5\n"
     ]
    }
   ],
   "source": [
    "#assignment\n",
    "number = int(input(\"Enter a number (enter 0 to quit)\"))\n",
    "add = 0\n",
    "while number!=0:\n",
    "    add += number\n",
    "    number = int(input(\"Enter a number (enter 0 to quit)\"))\n",
    "print(\"sum of the numbers is : \",add)\n",
    "    "
   ]
  },
  {
   "cell_type": "code",
   "execution_count": 1,
   "id": "78dd7195",
   "metadata": {},
   "outputs": [
    {
     "name": "stdout",
     "output_type": "stream",
     "text": [
      "factorial of 10 is 3628800\n"
     ]
    }
   ],
   "source": [
    "#while loop- execute till the condition is true\n",
    "result = 1\n",
    "i=1\n",
    "while i<=10:\n",
    "    result = result*i\n",
    "    i+=1 #i=i+1\n",
    "print(\"factorial of 10 is {}\".format(result))"
   ]
  },
  {
   "cell_type": "code",
   "execution_count": 2,
   "id": "c7f44454",
   "metadata": {},
   "outputs": [
    {
     "name": "stdout",
     "output_type": "stream",
     "text": [
      "*\n",
      "**\n",
      "***\n",
      "****\n",
      "*****\n"
     ]
    }
   ],
   "source": [
    "star = \"*\"\n",
    "max_len = 5\n",
    "while len(star) <=max_len:\n",
    "    print(star)\n",
    "    star+=\"*\""
   ]
  },
  {
   "cell_type": "code",
   "execution_count": 3,
   "id": "1f127284",
   "metadata": {},
   "outputs": [
    {
     "name": "stdout",
     "output_type": "stream",
     "text": [
      "*\n",
      "**\n",
      "***\n",
      "****\n",
      "*****\n",
      "******\n",
      "*****\n",
      "****\n",
      "***\n",
      "**\n",
      "*\n"
     ]
    }
   ],
   "source": [
    "star = \"*\"\n",
    "max_len = 5\n",
    "while len(star)<= max_len:\n",
    "    print(star)\n",
    "    star+=\"*\"\n",
    "while len(star) >0:\n",
    "    print(star)\n",
    "    star=star[:-1]"
   ]
  },
  {
   "cell_type": "code",
   "execution_count": null,
   "id": "d45e2fd8",
   "metadata": {},
   "outputs": [],
   "source": []
  }
 ],
 "metadata": {
  "kernelspec": {
   "display_name": "Python 3 (ipykernel)",
   "language": "python",
   "name": "python3"
  },
  "language_info": {
   "codemirror_mode": {
    "name": "ipython",
    "version": 3
   },
   "file_extension": ".py",
   "mimetype": "text/x-python",
   "name": "python",
   "nbconvert_exporter": "python",
   "pygments_lexer": "ipython3",
   "version": "3.9.13"
  }
 },
 "nbformat": 4,
 "nbformat_minor": 5
}
