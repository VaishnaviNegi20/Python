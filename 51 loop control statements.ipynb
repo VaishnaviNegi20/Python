{
 "cells": [
  {
   "cell_type": "code",
   "execution_count": 1,
   "id": "ccee9c99",
   "metadata": {},
   "outputs": [],
   "source": [
    "# loop control statements(break,continue,pass) changes the flow of execution of the loop so that we can have better control of execution of the loop"
   ]
  },
  {
   "cell_type": "code",
   "execution_count": 3,
   "id": "70abf889",
   "metadata": {},
   "outputs": [
    {
     "name": "stdout",
     "output_type": "stream",
     "text": [
      "1\n",
      "inside the loop\n",
      "2\n",
      "inside the loop\n",
      "3\n",
      "out of the loop\n"
     ]
    }
   ],
   "source": [
    "# break - used to exit completely from the loop\n",
    "\n",
    "count = 1\n",
    "while count<=6:\n",
    "    print(count)\n",
    "    count+=1\n",
    "    if count==4:\n",
    "        break\n",
    "    print(\"inside the loop\")\n",
    "print(\"out of the loop\")"
   ]
  },
  {
   "cell_type": "code",
   "execution_count": 4,
   "id": "9bbc0d1f",
   "metadata": {},
   "outputs": [
    {
     "name": "stdout",
     "output_type": "stream",
     "text": [
      "hi yash\n",
      "inside the inner loop\n",
      "hi bhushan\n",
      "inside the inner loop\n",
      "hi vijay\n",
      "inside the inner loop\n",
      "out of the inner loop\n",
      "inside the outer loop\n",
      "hello yash\n",
      "inside the inner loop\n",
      "hello bhushan\n",
      "out of the inner loop\n",
      "inside the outer loop\n",
      "welcome yash\n",
      "inside the inner loop\n",
      "welcome bhushan\n",
      "inside the inner loop\n",
      "welcome vijay\n",
      "inside the inner loop\n",
      "out of the inner loop\n",
      "inside the outer loop\n",
      "out of the outer loop\n"
     ]
    }
   ],
   "source": [
    "#break with nested loop\n",
    "\n",
    "list1 = [\"hi\",\"hello\",\"welcome\"]\n",
    "list2 = [\"yash\",\"bhushan\",\"vijay\"]\n",
    "\n",
    "for greeting in list1:\n",
    "    for name in list2:\n",
    "        print(greeting,name)\n",
    "        if greeting == \"hello\" and name ==\"bhushan\":\n",
    "            break\n",
    "        print(\"inside the inner loop\")\n",
    "    print(\"out of the inner loop\")\n",
    "    print(\"inside the outer loop\")\n",
    "print(\"out of the outer loop\")\n",
    "\n",
    "    "
   ]
  },
  {
   "cell_type": "code",
   "execution_count": 5,
   "id": "bfee2aaa",
   "metadata": {},
   "outputs": [
    {
     "name": "stdout",
     "output_type": "stream",
     "text": [
      "0\n",
      "1\n",
      "2\n",
      "4\n"
     ]
    }
   ],
   "source": [
    "#continue - used to skip certain part of the loop and execute next iteration\n",
    "\n",
    "for i in range(5):\n",
    "    if i==3:\n",
    "        continue\n",
    "    else:\n",
    "        print(i)"
   ]
  },
  {
   "cell_type": "code",
   "execution_count": 7,
   "id": "742b53a0",
   "metadata": {},
   "outputs": [
    {
     "name": "stdout",
     "output_type": "stream",
     "text": [
      "1\n",
      "inside the loop\n",
      "2\n",
      "3\n",
      "inside the loop\n",
      "4\n",
      "inside the loop\n",
      "5\n",
      "inside the loop\n",
      "outside the loop\n"
     ]
    }
   ],
   "source": [
    "count = 1\n",
    "while count<=5:\n",
    "    print(count)\n",
    "    count+=1\n",
    "    if count==3:\n",
    "        continue\n",
    "    print(\"inside the loop\")\n",
    "print(\"outside the loop\")"
   ]
  },
  {
   "cell_type": "code",
   "execution_count": 8,
   "id": "b9414d80",
   "metadata": {},
   "outputs": [
    {
     "name": "stdout",
     "output_type": "stream",
     "text": [
      "hi yash\n",
      "inside the inner loop\n",
      "hi bhushan\n",
      "inside the inner loop\n",
      "hi vijay\n",
      "inside the inner loop\n",
      "out of the inner loop\n",
      "inside the outer loop\n",
      "hello yash\n",
      "inside the inner loop\n",
      "hello bhushan\n",
      "hello vijay\n",
      "inside the inner loop\n",
      "out of the inner loop\n",
      "inside the outer loop\n",
      "welcome yash\n",
      "inside the inner loop\n",
      "welcome bhushan\n",
      "inside the inner loop\n",
      "welcome vijay\n",
      "inside the inner loop\n",
      "out of the inner loop\n",
      "inside the outer loop\n",
      "out of the outer loop\n"
     ]
    }
   ],
   "source": [
    "#continue with nested loop\n",
    "\n",
    "list1 = [\"hi\",\"hello\",\"welcome\"]\n",
    "list2 = [\"yash\",\"bhushan\",\"vijay\"]\n",
    "\n",
    "for greeting in list1:\n",
    "    for name in list2:\n",
    "        print(greeting,name)\n",
    "        if greeting == \"hello\" and name ==\"bhushan\":\n",
    "            continue\n",
    "        print(\"inside the inner loop\")\n",
    "    print(\"out of the inner loop\")\n",
    "    print(\"inside the outer loop\")\n",
    "print(\"out of the outer loop\")\n"
   ]
  },
  {
   "cell_type": "code",
   "execution_count": 10,
   "id": "232355a4",
   "metadata": {},
   "outputs": [
    {
     "name": "stdout",
     "output_type": "stream",
     "text": [
      "1\n",
      "inside the loop\n",
      "2\n",
      "inside the loop\n",
      "3\n",
      "inside the loop\n",
      "4\n",
      "inside the loop\n",
      "5\n",
      "inside the loop\n",
      "outside the loop\n"
     ]
    }
   ],
   "source": [
    "#pass - It's a placeholder. When you want to do nothing for now and maybe provide the code later, you use this statement so that there will be no error.\n",
    "\n",
    "count = 1\n",
    "while count<=5:\n",
    "    print(count)\n",
    "    count+=1\n",
    "    if count==3:\n",
    "        pass\n",
    "    print(\"inside the loop\")\n",
    "print(\"outside the loop\")"
   ]
  },
  {
   "cell_type": "code",
   "execution_count": 14,
   "id": "61eab486",
   "metadata": {},
   "outputs": [
    {
     "ename": "IndentationError",
     "evalue": "expected an indented block (4277248605.py, line 1)",
     "output_type": "error",
     "traceback": [
      "\u001b[1;36m  File \u001b[1;32m\"C:\\Users\\pc\\AppData\\Local\\Temp\\ipykernel_5828\\4277248605.py\"\u001b[1;36m, line \u001b[1;32m1\u001b[0m\n\u001b[1;33m    for i in range(1,5):\u001b[0m\n\u001b[1;37m                        ^\u001b[0m\n\u001b[1;31mIndentationError\u001b[0m\u001b[1;31m:\u001b[0m expected an indented block\n"
     ]
    }
   ],
   "source": [
    "for i in range(1,5):"
   ]
  },
  {
   "cell_type": "code",
   "execution_count": 15,
   "id": "c1b4a5aa",
   "metadata": {},
   "outputs": [],
   "source": [
    "for i in range(1,5):\n",
    "    pass #if you don't write this, it'll give indentation error"
   ]
  },
  {
   "cell_type": "code",
   "execution_count": 16,
   "id": "a5fb04d4",
   "metadata": {},
   "outputs": [],
   "source": [
    "def fun1():\n",
    "    pass"
   ]
  },
  {
   "cell_type": "code",
   "execution_count": null,
   "id": "51ec2e63",
   "metadata": {},
   "outputs": [],
   "source": []
  }
 ],
 "metadata": {
  "kernelspec": {
   "display_name": "Python 3 (ipykernel)",
   "language": "python",
   "name": "python3"
  },
  "language_info": {
   "codemirror_mode": {
    "name": "ipython",
    "version": 3
   },
   "file_extension": ".py",
   "mimetype": "text/x-python",
   "name": "python",
   "nbconvert_exporter": "python",
   "pygments_lexer": "ipython3",
   "version": "3.9.13"
  }
 },
 "nbformat": 4,
 "nbformat_minor": 5
}
