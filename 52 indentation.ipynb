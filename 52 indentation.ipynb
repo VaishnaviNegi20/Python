{
 "cells": [
  {
   "cell_type": "code",
   "execution_count": null,
   "id": "5d7082ee",
   "metadata": {},
   "outputs": [],
   "source": [
    "# first line of python code must not be indented."
   ]
  },
  {
   "cell_type": "code",
   "execution_count": null,
   "id": "2e5a701b",
   "metadata": {},
   "outputs": [],
   "source": [
    "# each block of code should have the same indented space."
   ]
  }
 ],
 "metadata": {
  "kernelspec": {
   "display_name": "Python 3 (ipykernel)",
   "language": "python",
   "name": "python3"
  },
  "language_info": {
   "codemirror_mode": {
    "name": "ipython",
    "version": 3
   },
   "file_extension": ".py",
   "mimetype": "text/x-python",
   "name": "python",
   "nbconvert_exporter": "python",
   "pygments_lexer": "ipython3",
   "version": "3.9.13"
  }
 },
 "nbformat": 4,
 "nbformat_minor": 5
}
