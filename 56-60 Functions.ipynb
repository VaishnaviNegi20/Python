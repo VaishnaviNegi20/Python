{
 "cells": [
  {
   "cell_type": "code",
   "execution_count": null,
   "id": "7f2de06b",
   "metadata": {},
   "outputs": [],
   "source": [
    "#built-in functions"
   ]
  },
  {
   "cell_type": "code",
   "execution_count": 2,
   "id": "d24c38c7",
   "metadata": {},
   "outputs": [
    {
     "name": "stdout",
     "output_type": "stream",
     "text": [
      "hi\n",
      "welcome\n"
     ]
    }
   ],
   "source": [
    "#user define function\n",
    "def greet():\n",
    "    print(\"hi\")\n",
    "    print(\"welcome\")\n",
    "\n",
    "greet()  #calling of the function"
   ]
  },
  {
   "cell_type": "code",
   "execution_count": null,
   "id": "0c818ae5",
   "metadata": {},
   "outputs": [],
   "source": [
    "#difference between arguments and parameters\n",
    "\n",
    "#arguments - the values which we pass while calling the function. Also known as actual parameters.\n",
    "#parameters - the variable names used to hold or accept the arguments while defining the functions. Also known as formal parameters."
   ]
  },
  {
   "cell_type": "code",
   "execution_count": 3,
   "id": "55afd9b5",
   "metadata": {},
   "outputs": [
    {
     "name": "stdout",
     "output_type": "stream",
     "text": [
      "sum of 1 and 2 is 3\n"
     ]
    }
   ],
   "source": [
    "def sum(num1,num2):\n",
    "    sum = num1+num2\n",
    "    print(f\"sum of {num1} and {num2} is {sum}\")\n",
    "    \n",
    "sum(1,2)"
   ]
  },
  {
   "cell_type": "code",
   "execution_count": null,
   "id": "b0bb7072",
   "metadata": {},
   "outputs": [],
   "source": []
  }
 ],
 "metadata": {
  "kernelspec": {
   "display_name": "Python 3 (ipykernel)",
   "language": "python",
   "name": "python3"
  },
  "language_info": {
   "codemirror_mode": {
    "name": "ipython",
    "version": 3
   },
   "file_extension": ".py",
   "mimetype": "text/x-python",
   "name": "python",
   "nbconvert_exporter": "python",
   "pygments_lexer": "ipython3",
   "version": "3.9.13"
  }
 },
 "nbformat": 4,
 "nbformat_minor": 5
}
