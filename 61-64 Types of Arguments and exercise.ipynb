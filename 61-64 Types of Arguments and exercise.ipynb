{
 "cells": [
  {
   "cell_type": "markdown",
   "id": "7a522748",
   "metadata": {},
   "source": [
    "# Types of Arguments"
   ]
  },
  {
   "cell_type": "code",
   "execution_count": 1,
   "id": "c7051dd2",
   "metadata": {},
   "outputs": [],
   "source": [
    "# 1.Default\n",
    "# 2.Positional\n",
    "# 3.Keyword\n",
    "# 4.Arbitrary / Variable Length\n",
    "#     a. Arbitrary Positional(*args) - converts to tuple(immutable)\n",
    "#     b. Arbitrary Keyword(**kwargs) - converts to dict(mutable)\n",
    "  \n",
    "  "
   ]
  },
  {
   "cell_type": "code",
   "execution_count": 3,
   "id": "e24cddae",
   "metadata": {},
   "outputs": [
    {
     "name": "stdout",
     "output_type": "stream",
     "text": [
      "name vaishnavi\n",
      "subject Python\n",
      "job Data Analyst\n",
      "(1, 2, 3)\n",
      "name yash\n",
      "subject Solid Mechanics\n",
      "job Civil Engineer\n",
      "(2, 5, 8, 6)\n"
     ]
    }
   ],
   "source": [
    "def info_person(*args,**kwargs):  #first normal arguments then *args then **kwargs\n",
    "    for key,value in kwargs.items(): #can use any name instead of key,value #always give .items() for kwargs\n",
    "        print(key,value)\n",
    "    print(args)\n",
    "    \n",
    "info_person(1,2,3,name=\"vaishnavi\",subject=\"Python\",job=\"Data Analyst\")\n",
    "info_person(2,5,8,6,name=\"yash\",subject=\"Solid Mechanics\",job=\"Civil Engineer\") \n",
    "\n",
    "#number of arguments are diffrent each time that's why we use *args"
   ]
  },
  {
   "cell_type": "code",
   "execution_count": 4,
   "id": "35049d53",
   "metadata": {},
   "outputs": [
    {
     "name": "stdout",
     "output_type": "stream",
     "text": [
      "answer is -288\n",
      "answer is 0\n"
     ]
    }
   ],
   "source": [
    "def multiply(*numbers):\n",
    "    answer = 1\n",
    "    for i in numbers:\n",
    "        answer*=i\n",
    "    print(f\"answer is {answer}\")\n",
    "\n",
    "multiply(2,3,-6,8)\n",
    "multiply(2,5,8,9,0,6)"
   ]
  },
  {
   "cell_type": "code",
   "execution_count": 10,
   "id": "1d91e2da",
   "metadata": {},
   "outputs": [
    {
     "name": "stdout",
     "output_type": "stream",
     "text": [
      "Help on built-in function ceil in module math:\n",
      "\n",
      "ceil(x, /)\n",
      "    Return the ceiling of x as an Integral.\n",
      "    \n",
      "    This is the smallest integer >= x.\n",
      "\n"
     ]
    }
   ],
   "source": [
    "import math\n",
    "help(math.ceil)"
   ]
  },
  {
   "cell_type": "code",
   "execution_count": 20,
   "id": "5729f597",
   "metadata": {},
   "outputs": [
    {
     "name": "stdout",
     "output_type": "stream",
     "text": [
      "number of cans required is 6\n",
      "number of cans required is 252\n",
      "number of cans required is 335\n",
      "number of cans required is 668\n",
      "number of cans required is 499\n"
     ]
    }
   ],
   "source": [
    "import math\n",
    "def paint(height,width,coverage):\n",
    "    area = height*width\n",
    "    number_of_cans = math.ceil(area/coverage)\n",
    "    print(f\"number of cans required is {number_of_cans}\")\n",
    "    \n",
    "paint(3,4,2)\n",
    "paint(32,55,7)\n",
    "paint(height= 45,width=67,coverage=9)\n",
    "paint(45,width=89,coverage=6) #always give positional arguments first then keyword arguments\n",
    "paint(45,99.7,coverage=9)"
   ]
  },
  {
   "cell_type": "code",
   "execution_count": 24,
   "id": "28ef8b18",
   "metadata": {},
   "outputs": [
    {
     "name": "stdout",
     "output_type": "stream",
     "text": [
      "enter the height : 3\n",
      "enter the width : 4\n",
      "number of cans required is 2\n"
     ]
    }
   ],
   "source": [
    "import math\n",
    "def paint(height,width,coverage):\n",
    "    number_of_cans = math.ceil(((height*width))/coverage)\n",
    "    print(f\"number of cans required is {number_of_cans}\")\n",
    "\n",
    "h = int(input(\"enter the height : \"))\n",
    "w = int(input(\"enter the width : \"))\n",
    "c = 7\n",
    "paint(width=w,height=h,coverage=c)\n"
   ]
  },
  {
   "cell_type": "code",
   "execution_count": 29,
   "id": "485c7c72",
   "metadata": {},
   "outputs": [
    {
     "name": "stdout",
     "output_type": "stream",
     "text": [
      "enter a number to check whether it's prime or not : 4\n",
      "4 is not a prime number\n"
     ]
    }
   ],
   "source": [
    "#find prime checker using functions\n",
    "#method1 ((number-1)method)\n",
    "\n",
    "def prime_checker (number):\n",
    "    is_prime = True\n",
    "    if number == 1:\n",
    "        is_prime = False\n",
    "        \n",
    "    for i in range(2,number):\n",
    "        if number%i==0:\n",
    "            is_prime = False\n",
    "            break # No need to continue checking if a divisor is found\n",
    "    if is_prime == True:   #or just write if is_prime: bcz is_prime is already True\n",
    "        print(f\"{number} is prime number\")\n",
    "\n",
    "    else:\n",
    "        print(f\"{number} is not a prime number\")\n",
    "    \n",
    "n = int(input(\"enter a number to check whether it's prime or not : \"))\n",
    "prime_checker(number=n)\n",
    "        "
   ]
  },
  {
   "cell_type": "markdown",
   "id": "ed17bcc7",
   "metadata": {},
   "source": [
    "In the code provided, the function correctly identifies 2 as a prime number. Here's why:\n",
    "\n",
    "1. The function starts by initializing is_prime to True.\n",
    "2. It then checks if the input number is 1. If it is, it sets is_prime to False, correctly identifying that 1 is not a prime number.\n",
    "3. Next, it enters a loop to check for divisors of the input number. For number = 2, the loop range is range(2, 2), which means the loop doesn't run at all. This is because the range function generates numbers starting from 2 up to (but not including) the specified number. Since the starting and ending numbers are the same (2), the loop doesn't execute, and the value of is_prime remains True.\n",
    "4. After the loop (or lack thereof), the function checks the value of is_prime. Since it's still True, it prints that 2 is a prime number.\n",
    "\n",
    "So, the code correctly identifies 2 as a prime number according to the definition of prime numbers."
   ]
  },
  {
   "cell_type": "code",
   "execution_count": 27,
   "id": "54a09f38",
   "metadata": {},
   "outputs": [
    {
     "name": "stdout",
     "output_type": "stream",
     "text": [
      "enter a number to check whether it's prime or not : 11\n",
      "11 is prime number\n"
     ]
    }
   ],
   "source": [
    "#find prime checker using functions\n",
    "# method2 (/2 method) -- reduces time complexity\n",
    "#                        reduces unnecessary iterations, making the function more efficient for larger numbers.\n",
    "\n",
    "import math\n",
    "def prime_checker (number):\n",
    "    is_prime = True\n",
    "    if number == 1:\n",
    "        is_prime = False\n",
    "        \n",
    "    for i in range(2,math.ceil(number/2)+1):\n",
    "        if number%i==0:\n",
    "            is_prime = False\n",
    "            break    # No need to continue checking if a divisor is found\n",
    "    if is_prime == True:   #or just write if is_prime: bcz is_prime is already True\n",
    "        print(f\"{number} is prime number\")\n",
    "\n",
    "    else:\n",
    "        print(f\"{number} is not a prime number\")\n",
    "    \n",
    "n = int(input(\"enter a number to check whether it's prime or not : \"))\n",
    "prime_checker(number=n)\n",
    "        "
   ]
  },
  {
   "cell_type": "code",
   "execution_count": 30,
   "id": "d76adfb8",
   "metadata": {},
   "outputs": [
    {
     "name": "stdout",
     "output_type": "stream",
     "text": [
      "enter a number to check whether it's prime or not : 67\n",
      "67 is prime number\n"
     ]
    }
   ],
   "source": [
    "#find prime checker using functions\n",
    "# method3 (square root method) -- This version utilizes math.isqrt() to compute the integer square root, \n",
    "#                                 reducing the loop iterations even further, particularly for larger numbers.\n",
    "\n",
    "import math\n",
    "def prime_checker (number):\n",
    "    is_prime = True\n",
    "    if number == 1:\n",
    "        is_prime = False\n",
    "        \n",
    "    for i in range(2,math.isqrt(number)+1):\n",
    "        if number%i==0:\n",
    "            is_prime = False\n",
    "            break    # No need to continue checking if a divisor is found\n",
    "    if is_prime == True:   #or just write if is_prime: bcz is_prime is already True\n",
    "        print(f\"{number} is prime number\")\n",
    "\n",
    "    else:\n",
    "        print(f\"{number} is not a prime number\")\n",
    "    \n",
    "n = int(input(\"enter a number to check whether it's prime or not : \"))\n",
    "prime_checker(number=n)\n",
    "        "
   ]
  },
  {
   "cell_type": "code",
   "execution_count": null,
   "id": "e2af4195",
   "metadata": {},
   "outputs": [],
   "source": []
  }
 ],
 "metadata": {
  "kernelspec": {
   "display_name": "Python 3 (ipykernel)",
   "language": "python",
   "name": "python3"
  },
  "language_info": {
   "codemirror_mode": {
    "name": "ipython",
    "version": 3
   },
   "file_extension": ".py",
   "mimetype": "text/x-python",
   "name": "python",
   "nbconvert_exporter": "python",
   "pygments_lexer": "ipython3",
   "version": "3.9.13"
  }
 },
 "nbformat": 4,
 "nbformat_minor": 5
}
