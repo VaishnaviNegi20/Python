{
 "cells": [
  {
   "cell_type": "markdown",
   "id": "7e93a31f",
   "metadata": {},
   "source": [
    "# Caesar Cipher"
   ]
  },
  {
   "cell_type": "code",
   "execution_count": 26,
   "id": "e59f56ac",
   "metadata": {},
   "outputs": [
    {
     "name": "stdout",
     "output_type": "stream",
     "text": [
      "type 1 for encryption and 2 for decryption : 1\n",
      "enter your message : where are 4 crore?\n",
      "enter shift_key : 8\n",
      "message after encryption is epmzm izm 4 kzwzm?\n",
      "type yes if you want to go again,otherwise no : yes\n",
      "type 1 for encryption and 2 for decryption : 2\n",
      "enter your message : epmzm izm 4 kzwzm?\n",
      "enter shift_key : 8\n",
      "message after decryption is where are 4 crore?\n",
      "type yes if you want to go again,otherwise no : no\n",
      "Goodbye\n"
     ]
    }
   ],
   "source": [
    "#with 2 user define functions\n",
    "alphabet = ['a', 'b', 'c', 'd', 'e', 'f', 'g', 'h', 'i', 'j', 'k', 'l', 'm',\n",
    "            'n', 'o', 'p', 'q', 'r', 's', 't', 'u', 'v', 'w', 'x', 'y', 'z']\n",
    "\n",
    "def encryption(shift_key,plain_message):\n",
    "    encrypted_message = \"\"\n",
    "    for letter in plain_message:\n",
    "        if letter in alphabet:\n",
    "            position = alphabet.index(letter)\n",
    "            new_position = (position + shift_key)%26\n",
    "            encrypted_message += alphabet[new_position]\n",
    "        else:\n",
    "            encrypted_message+=letter     \n",
    "    print(f\"message after encryption is {encrypted_message}\")\n",
    "    \n",
    "    \n",
    "def decryption(shift_key,cipher_message):\n",
    "    decrypted_message = \"\"\n",
    "    for letter in cipher_message:\n",
    "        if letter in alphabet: \n",
    "            position = alphabet.index(letter)\n",
    "            new_position = (position - shift_key)%26\n",
    "            decrypted_message += alphabet[new_position]\n",
    "        else:\n",
    "            decrypted_message+=letter\n",
    "    print(f\"message after decryption is {decrypted_message}\")\n",
    "    \n",
    "\n",
    "wanna_end = False\n",
    "while not wanna_end:\n",
    "    choice = input(\"type 1 for encryption and 2 for decryption : \")\n",
    "    message = input(\"enter your message : \").lower()\n",
    "    shift_key = int(input(\"enter shift_key : \"))\n",
    "    if choice==\"1\":\n",
    "        encryption(shift_key,plain_message = message)\n",
    "    elif choice==\"2\":\n",
    "        decryption(shift_key,cipher_message=message)\n",
    "    again = input(\"type yes if you want to go again,otherwise no : \").lower()\n",
    "    if again==\"no\":\n",
    "        wanna_end = True\n",
    "        print(\"Goodbye\")\n",
    "           "
   ]
  },
  {
   "cell_type": "code",
   "execution_count": 27,
   "id": "bfaf5bd1",
   "metadata": {},
   "outputs": [
    {
     "name": "stdout",
     "output_type": "stream",
     "text": [
      "type 1 for encryption and 2 for decryption : 1\n",
      "enter your message : hi 123\n",
      "enter shift_key : 3\n",
      "kl 123\n",
      "type yes if you want to go again,otherwise no : yes\n",
      "type 1 for encryption and 2 for decryption : 2\n",
      "enter your message : kl 123\n",
      "enter shift_key : 3\n",
      "hi 123\n",
      "type yes if you want to go again,otherwise no : yes\n",
      "type 1 for encryption and 2 for decryption : 1\n",
      "enter your message : hi 12#\n",
      "enter shift_key : 3\n",
      "kl 12#\n",
      "type yes if you want to go again,otherwise no : yes\n",
      "type 1 for encryption and 2 for decryption : 2\n",
      "enter your message : kl 12#\n",
      "enter shift_key : -3\n",
      "no 12#\n",
      "type yes if you want to go again,otherwise no : no\n",
      "Goodbye\n"
     ]
    }
   ],
   "source": [
    "#with 1 user define function\n",
    "alphabet = ['a', 'b', 'c', 'd', 'e', 'f', 'g', 'h', 'i', 'j', 'k', 'l', 'm',\n",
    "            'n', 'o', 'p', 'q', 'r', 's', 't', 'u', 'v', 'w', 'x', 'y', 'z']\n",
    "\n",
    "def caesar_cipher(choice,message,shift_key):\n",
    "    caesar_cipher_message = \"\"\n",
    "    for letter in message:\n",
    "        if letter in alphabet:\n",
    "            position = alphabet.index(letter)\n",
    "            new_position = (position + shift_key)%26\n",
    "            caesar_cipher_message += alphabet[new_position]\n",
    "        else:\n",
    "            caesar_cipher_message+=letter     \n",
    "    print(f\"{caesar_cipher_message}\")\n",
    "\n",
    "    \n",
    "wanna_end = False\n",
    "while not wanna_end:\n",
    "    choice = input(\"type 1 for encryption and 2 for decryption : \")\n",
    "    message = input(\"enter your message : \").lower()\n",
    "    shift_key = int(input(\"enter shift_key : \"))\n",
    "    if choice==\"1\":\n",
    "        caesar_cipher(choice,message,shift_key)\n",
    "    elif choice==\"2\":\n",
    "        caesar_cipher(choice,message,-shift_key)\n",
    "    again = input(\"type yes if you want to go again,otherwise no : \").lower()\n",
    "    if again==\"no\":\n",
    "        wanna_end = True\n",
    "        print(\"Goodbye\")\n",
    "           "
   ]
  },
  {
   "cell_type": "code",
   "execution_count": null,
   "id": "0bea6fe1",
   "metadata": {},
   "outputs": [],
   "source": []
  }
 ],
 "metadata": {
  "kernelspec": {
   "display_name": "Python 3 (ipykernel)",
   "language": "python",
   "name": "python3"
  },
  "language_info": {
   "codemirror_mode": {
    "name": "ipython",
    "version": 3
   },
   "file_extension": ".py",
   "mimetype": "text/x-python",
   "name": "python",
   "nbconvert_exporter": "python",
   "pygments_lexer": "ipython3",
   "version": "3.9.13"
  }
 },
 "nbformat": 4,
 "nbformat_minor": 5
}
