{
 "cells": [
  {
   "cell_type": "code",
   "execution_count": null,
   "id": "d00f5d78",
   "metadata": {},
   "outputs": [],
   "source": [
    "a = 10 #global \n",
    "def display():\n",
    "    print(a)\n",
    "display()"
   ]
  },
  {
   "cell_type": "code",
   "execution_count": null,
   "id": "4291b49d",
   "metadata": {},
   "outputs": [],
   "source": [
    "a = 10 #global \n",
    "def display():\n",
    "    a=15 #local\n",
    "    print(a) #first it'll check for local scope, if not found then global scope\n",
    "display()"
   ]
  },
  {
   "cell_type": "code",
   "execution_count": null,
   "id": "101903db",
   "metadata": {},
   "outputs": [],
   "source": []
  },
  {
   "cell_type": "code",
   "execution_count": 3,
   "id": "20392bf4",
   "metadata": {},
   "outputs": [
    {
     "name": "stdout",
     "output_type": "stream",
     "text": [
      "vaishnavi\n",
      "vaishnavi negi\n"
     ]
    }
   ],
   "source": [
    "name = \"vaishnavi\"\n",
    "def display():\n",
    "    global name\n",
    "    name = name + \" negi\"\n",
    "print(name) # because print is outside of the scope of display and global name(1st line) is present so this will be vaishnavi\n",
    "display()\n",
    "print(name) # here we have called the function display() so the global name changed within the non-global space which is within the scope of display() hence the name is modified"
   ]
  },
  {
   "cell_type": "code",
   "execution_count": null,
   "id": "46c8a2d4",
   "metadata": {},
   "outputs": [],
   "source": [
    "# local variables will be given preference over global variables\n",
    "# when printing check for the indentation so that you can see which scope the print() is having\n",
    "# if we call a fuction then it can change the global var value (like in above example display())\n",
    "# if in the global space any global variable is not present then the non-global space global var will be counted as global space.\n"
   ]
  }
 ],
 "metadata": {
  "kernelspec": {
   "display_name": "Python 3 (ipykernel)",
   "language": "python",
   "name": "python3"
  },
  "language_info": {
   "codemirror_mode": {
    "name": "ipython",
    "version": 3
   },
   "file_extension": ".py",
   "mimetype": "text/x-python",
   "name": "python",
   "nbconvert_exporter": "python",
   "pygments_lexer": "ipython3",
   "version": "3.11.7"
  }
 },
 "nbformat": 4,
 "nbformat_minor": 5
}
