{
 "cells": [
  {
   "cell_type": "code",
   "execution_count": null,
   "id": "9859c404",
   "metadata": {},
   "outputs": [],
   "source": [
    "# q1 own"
   ]
  },
  {
   "cell_type": "code",
   "execution_count": 31,
   "id": "ecedc4ed",
   "metadata": {},
   "outputs": [],
   "source": [
    "class Circle():\n",
    "    def __init__(self,radius):\n",
    "        self.radius = radius\n",
    "\n",
    "    def area(self):\n",
    "        A = 3.14*(self.radius**2)\n",
    "        return A\n",
    "    def circumference(self):\n",
    "        C = 2*3.14*self.radius\n",
    "        return C"
   ]
  },
  {
   "cell_type": "code",
   "execution_count": 23,
   "id": "44997e02",
   "metadata": {},
   "outputs": [],
   "source": [
    "rad1 = Circle(1)"
   ]
  },
  {
   "cell_type": "code",
   "execution_count": 24,
   "id": "a40ba9a6",
   "metadata": {},
   "outputs": [
    {
     "data": {
      "text/plain": [
       "3.14"
      ]
     },
     "execution_count": 24,
     "metadata": {},
     "output_type": "execute_result"
    }
   ],
   "source": [
    "rad1.area()"
   ]
  },
  {
   "cell_type": "code",
   "execution_count": 25,
   "id": "5ee03b50",
   "metadata": {},
   "outputs": [
    {
     "data": {
      "text/plain": [
       "6.28"
      ]
     },
     "execution_count": 25,
     "metadata": {},
     "output_type": "execute_result"
    }
   ],
   "source": [
    "rad1.circumference()"
   ]
  },
  {
   "cell_type": "code",
   "execution_count": 26,
   "id": "a4e3abb0",
   "metadata": {},
   "outputs": [],
   "source": [
    "rad2 = Circle(2)"
   ]
  },
  {
   "cell_type": "code",
   "execution_count": 27,
   "id": "091e973d",
   "metadata": {},
   "outputs": [
    {
     "data": {
      "text/plain": [
       "12.56"
      ]
     },
     "execution_count": 27,
     "metadata": {},
     "output_type": "execute_result"
    }
   ],
   "source": [
    "rad2.area()"
   ]
  },
  {
   "cell_type": "code",
   "execution_count": 28,
   "id": "587204b6",
   "metadata": {},
   "outputs": [
    {
     "data": {
      "text/plain": [
       "12.56"
      ]
     },
     "execution_count": 28,
     "metadata": {},
     "output_type": "execute_result"
    }
   ],
   "source": [
    "rad2.circumference()"
   ]
  },
  {
   "cell_type": "code",
   "execution_count": 29,
   "id": "1fa631ea",
   "metadata": {},
   "outputs": [],
   "source": [
    "#q1 j"
   ]
  },
  {
   "cell_type": "code",
   "execution_count": 38,
   "id": "956ce648",
   "metadata": {},
   "outputs": [
    {
     "name": "stdout",
     "output_type": "stream",
     "text": [
      "The circumference of circle1 is 18.84\n",
      "The area of circle1 is 28.26\n",
      "The circumference of circle2 is 50.24\n",
      "The area of circle 2 is 200.96\n"
     ]
    }
   ],
   "source": [
    "class Circle(): #capital C means it's a class(not throw any error but just for recognition)\n",
    "    pi =3.14 #class object attribute\n",
    "    def __init__(self,r=8): #if nothing is given then r=8, otherwise it'll ovrwrite\n",
    "        self.radius = r\n",
    "        self.circumference = 2*Circle.pi*r\n",
    "    def area(self):\n",
    "        return(Circle.pi*(self.radius**2))\n",
    "circle1 = Circle(3) #creating an instance or object # small c means it's an object/instance\n",
    "print(f\"The circumference of circle1 is {circle1.circumference}\")\n",
    "print(f\"The area of circle1 is {circle1.area()}\")\n",
    "circle2 = Circle() #here r=8(default)\n",
    "print(f\"The circumference of circle2 is {circle2.circumference}\")\n",
    "print(f\"The area of circle 2 is {circle2.area()}\")"
   ]
  },
  {
   "cell_type": "code",
   "execution_count": 39,
   "id": "cf3e8739",
   "metadata": {},
   "outputs": [],
   "source": [
    "#q2 own"
   ]
  },
  {
   "cell_type": "code",
   "execution_count": 44,
   "id": "cc31dad9",
   "metadata": {},
   "outputs": [
    {
     "name": "stdout",
     "output_type": "stream",
     "text": [
      "The area of the rect1 is 2\n",
      "The circumference of the rect1 is 6\n",
      "The area of the rect1 is 120\n",
      "The circumference of the rect1 is 44\n"
     ]
    }
   ],
   "source": [
    "class Rectangle():\n",
    "    def __init__(self,l,b):\n",
    "        self.length = l\n",
    "        self.breadth = b\n",
    "    def area(self):\n",
    "        return(self.length*self.breadth)\n",
    "    def circumference(self):\n",
    "        return(2*(self.length + self.breadth))\n",
    "rect1 = Rectangle(1,2)\n",
    "print(f\"The area of the rect1 is {rect1.area()}\")\n",
    "print(f\"The circumference of the rect1 is {rect1.circumference()}\")\n",
    "\n",
    "rect2 = Rectangle(10,12)\n",
    "print(f\"The area of the rect1 is {rect2.area()}\")\n",
    "print(f\"The circumference of the rect1 is {rect2.circumference()}\")\n"
   ]
  },
  {
   "cell_type": "code",
   "execution_count": null,
   "id": "c463eeaf",
   "metadata": {},
   "outputs": [],
   "source": []
  },
  {
   "cell_type": "code",
   "execution_count": null,
   "id": "4d0dd23e",
   "metadata": {},
   "outputs": [],
   "source": []
  },
  {
   "cell_type": "code",
   "execution_count": null,
   "id": "661e666e",
   "metadata": {},
   "outputs": [],
   "source": []
  },
  {
   "cell_type": "code",
   "execution_count": null,
   "id": "41f4d53b",
   "metadata": {},
   "outputs": [],
   "source": []
  },
  {
   "cell_type": "code",
   "execution_count": null,
   "id": "f5a1b617",
   "metadata": {},
   "outputs": [],
   "source": []
  },
  {
   "cell_type": "code",
   "execution_count": null,
   "id": "b5535388",
   "metadata": {},
   "outputs": [],
   "source": []
  }
 ],
 "metadata": {
  "kernelspec": {
   "display_name": "Python 3 (ipykernel)",
   "language": "python",
   "name": "python3"
  },
  "language_info": {
   "codemirror_mode": {
    "name": "ipython",
    "version": 3
   },
   "file_extension": ".py",
   "mimetype": "text/x-python",
   "name": "python",
   "nbconvert_exporter": "python",
   "pygments_lexer": "ipython3",
   "version": "3.11.7"
  }
 },
 "nbformat": 4,
 "nbformat_minor": 5
}
