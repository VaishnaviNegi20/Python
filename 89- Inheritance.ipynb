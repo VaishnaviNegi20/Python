{
 "cells": [
  {
   "cell_type": "markdown",
   "id": "00046cb1",
   "metadata": {},
   "source": [
    "# Single Inheritance"
   ]
  },
  {
   "cell_type": "code",
   "execution_count": 14,
   "id": "7b8c82d7",
   "metadata": {},
   "outputs": [
    {
     "name": "stdout",
     "output_type": "stream",
     "text": [
      "human work\n",
      "human eat\n"
     ]
    }
   ],
   "source": [
    "class Human:\n",
    "    def work(self):\n",
    "        print(\"human work\")\n",
    "    def eat(self):\n",
    "        print(\"human eat\")\n",
    "class Female(Human):\n",
    "    pass\n",
    "f1 = Female()\n",
    "f1.work()\n",
    "f1.eat()"
   ]
  },
  {
   "cell_type": "code",
   "execution_count": 16,
   "id": "627b4e71",
   "metadata": {},
   "outputs": [
    {
     "name": "stdout",
     "output_type": "stream",
     "text": [
      "human work\n",
      "human eat\n",
      "female dances\n"
     ]
    }
   ],
   "source": [
    "class Human:\n",
    "    def work(self):\n",
    "        print(\"human work\")\n",
    "    def eat(self):\n",
    "        print(\"human eat\")\n",
    "class Female(Human):\n",
    "    def dance(self):\n",
    "        print(\"female dances\")\n",
    "f1 = Female()\n",
    "f1.work()\n",
    "f1.eat()\n",
    "f1.dance()"
   ]
  },
  {
   "cell_type": "code",
   "execution_count": 17,
   "id": "627549b0",
   "metadata": {},
   "outputs": [
    {
     "name": "stdout",
     "output_type": "stream",
     "text": [
      "human work\n",
      "female eats mango\n",
      "female dances\n"
     ]
    }
   ],
   "source": [
    "class Human:\n",
    "    def work(self):\n",
    "        print(\"human work\")\n",
    "    def eat(self):\n",
    "        print(\"human eat\")\n",
    "class Female(Human):\n",
    "    def dance(self):\n",
    "        print(\"female dances\")\n",
    "    def eat(self):\n",
    "        print(\"female eats mango\")\n",
    "f1 = Female()\n",
    "f1.work()\n",
    "f1.eat()\n",
    "f1.dance()"
   ]
  },
  {
   "cell_type": "code",
   "execution_count": 21,
   "id": "084d3143",
   "metadata": {},
   "outputs": [
    {
     "name": "stdout",
     "output_type": "stream",
     "text": [
      "human work\n",
      "human eat\n",
      "female eats mango\n",
      "female dances\n"
     ]
    }
   ],
   "source": [
    "class Human:\n",
    "    def work(self):\n",
    "        print(\"human work\")\n",
    "    def eat(self):\n",
    "        print(\"human eat\")\n",
    "class Female(Human):\n",
    "    def dance(self):\n",
    "        print(\"female dances\")\n",
    "    def eat(self):\n",
    "        super().eat()   #method overriding\n",
    "        print(\"female eats mango\")\n",
    "f1 = Female()\n",
    "f1.work()\n",
    "f1.eat()\n",
    "f1.dance()"
   ]
  },
  {
   "cell_type": "code",
   "execution_count": 26,
   "id": "1b508aa1",
   "metadata": {},
   "outputs": [
    {
     "name": "stdout",
     "output_type": "stream",
     "text": [
      "human work\n",
      "human eat\n",
      "female eats mango\n",
      "female dances\n",
      "2\n",
      "1\n"
     ]
    }
   ],
   "source": [
    "class Human:\n",
    "    def __init__(self):\n",
    "        self.num_eyes = 2\n",
    "        self.num_heart = 1\n",
    "    def work(self):\n",
    "        print(\"human work\")\n",
    "    def eat(self):\n",
    "        print(\"human eat\")\n",
    "class Female(Human):\n",
    "    def dance(self):\n",
    "        print(\"female dances\")\n",
    "    def eat(self):\n",
    "        super().eat()\n",
    "        print(\"female eats mango\")\n",
    "f1 = Female()\n",
    "f1.work()\n",
    "f1.eat()\n",
    "f1.dance()\n",
    "print(f1.num_eyes)\n",
    "print(f1.num_heart)"
   ]
  },
  {
   "cell_type": "code",
   "execution_count": 34,
   "id": "cd864b1f",
   "metadata": {},
   "outputs": [
    {
     "name": "stdout",
     "output_type": "stream",
     "text": [
      "human work\n",
      "human eat\n",
      "female eats mango\n",
      "female dances\n",
      "2\n",
      "1\n",
      "vaishnavi\n"
     ]
    }
   ],
   "source": [
    "class Human:\n",
    "    def __init__(self):\n",
    "        self.num_eyes = 2\n",
    "        self.num_heart = 1\n",
    "    def work(self):\n",
    "        print(\"human work\")\n",
    "    def eat(self):\n",
    "        print(\"human eat\")\n",
    "class Female(Human):\n",
    "    def __init__(self,name):\n",
    "        super().__init__()\n",
    "        self.name = name\n",
    "    def dance(self):\n",
    "        print(\"female dances\")\n",
    "    def eat(self):\n",
    "        super().eat()\n",
    "        print(\"female eats mango\")\n",
    "f1 = Female(\"vaishnavi\")\n",
    "f1.work()\n",
    "f1.eat()\n",
    "f1.dance()\n",
    "print(f1.num_eyes)\n",
    "print(f1.num_heart)\n",
    "print(f1.name)"
   ]
  },
  {
   "cell_type": "code",
   "execution_count": 35,
   "id": "b53a7ed4",
   "metadata": {},
   "outputs": [
    {
     "name": "stdout",
     "output_type": "stream",
     "text": [
      "human work\n",
      "human eat\n",
      "female eats mango\n",
      "female dances\n",
      "2\n",
      "1\n",
      "vaishnavi\n"
     ]
    }
   ],
   "source": [
    "class Human:\n",
    "    def __init__(self,num_nose):\n",
    "        self.num_eyes = 2\n",
    "        self.num_heart = 1\n",
    "        self.num_nose = num_nose\n",
    "    def work(self):\n",
    "        print(\"human work\")\n",
    "    def eat(self):\n",
    "        print(\"human eat\")\n",
    "class Female(Human):\n",
    "    def __init__(self,name,num_nose): #num_nose name can be anyting,you can change it\n",
    "        super().__init__(num_nose) # if you change num_nose then here also write the same attribute name\n",
    "        self.name = name\n",
    "    def dance(self):\n",
    "        print(\"female dances\")\n",
    "    def eat(self):\n",
    "        super().eat()\n",
    "        print(\"female eats mango\")\n",
    "f1 = Female(\"vaishnavi\",1)\n",
    "f1.work()\n",
    "f1.eat()\n",
    "f1.dance()\n",
    "print(f1.num_eyes)\n",
    "print(f1.num_heart)\n",
    "print(f1.name)"
   ]
  },
  {
   "cell_type": "code",
   "execution_count": 36,
   "id": "b32ca1f0",
   "metadata": {},
   "outputs": [
    {
     "name": "stdout",
     "output_type": "stream",
     "text": [
      "human work\n",
      "human eat\n",
      "female eats mango\n",
      "female dances\n",
      "2\n",
      "1\n",
      "vaishnavi\n",
      "Hi! I'm vaishnavi and I've 2 eyes and 1 nose\n"
     ]
    }
   ],
   "source": [
    "class Human:\n",
    "    def __init__(self,num_nose):\n",
    "        self.num_eyes = 2\n",
    "        self.num_heart = 1\n",
    "        self.num_nose = num_nose\n",
    "    def work(self):\n",
    "        print(\"human work\")\n",
    "    def eat(self):\n",
    "        print(\"human eat\")\n",
    "class Female(Human):\n",
    "    def __init__(self,name,num_nose):\n",
    "        super().__init__(num_nose)\n",
    "        self.name = name\n",
    "    def dance(self):\n",
    "        print(\"female dances\")\n",
    "    def eat(self):\n",
    "        super().eat()\n",
    "        print(\"female eats mango\")\n",
    "    def display(self):\n",
    "        print(f\"Hi! I'm {self.name} and I've {self.num_eyes} eyes and {self.num_nose} nose\")\n",
    "f1 = Female(\"vaishnavi\",1)\n",
    "f1.work()\n",
    "f1.eat()\n",
    "f1.dance()\n",
    "print(f1.num_eyes)\n",
    "print(f1.num_heart)\n",
    "print(f1.name)\n",
    "f1.display()"
   ]
  },
  {
   "cell_type": "code",
   "execution_count": null,
   "id": "040193dd",
   "metadata": {},
   "outputs": [],
   "source": []
  }
 ],
 "metadata": {
  "kernelspec": {
   "display_name": "Python 3 (ipykernel)",
   "language": "python",
   "name": "python3"
  },
  "language_info": {
   "codemirror_mode": {
    "name": "ipython",
    "version": 3
   },
   "file_extension": ".py",
   "mimetype": "text/x-python",
   "name": "python",
   "nbconvert_exporter": "python",
   "pygments_lexer": "ipython3",
   "version": "3.11.7"
  }
 },
 "nbformat": 4,
 "nbformat_minor": 5
}
