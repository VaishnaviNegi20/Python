{
 "cells": [
  {
   "cell_type": "code",
   "execution_count": 58,
   "id": "aebe2da4",
   "metadata": {},
   "outputs": [
    {
     "name": "stdout",
     "output_type": "stream",
     "text": [
      "human works\n",
      "male eats\n"
     ]
    }
   ],
   "source": [
    "class Human:\n",
    "    def work(self):\n",
    "        print(\"human works\")\n",
    "class Male:\n",
    "    def eat(self):\n",
    "        print(\"male eats\")\n",
    "class Boy(Human,Male):\n",
    "    pass\n",
    "b1 = Boy()\n",
    "b1.work()\n",
    "b1.eat()"
   ]
  },
  {
   "cell_type": "code",
   "execution_count": 59,
   "id": "31de3665",
   "metadata": {},
   "outputs": [
    {
     "name": "stdout",
     "output_type": "stream",
     "text": [
      "human works\n",
      "male eats\n",
      "boy plays\n"
     ]
    }
   ],
   "source": [
    "class Human:\n",
    "    def work(self):\n",
    "        print(\"human works\")\n",
    "class Male:\n",
    "    def eat(self):\n",
    "        print(\"male eats\")\n",
    "class Boy(Human,Male):\n",
    "    def play(self):\n",
    "        print(\"boy plays\")\n",
    "b1 = Boy()\n",
    "b1.work()\n",
    "b1.eat()\n",
    "b1.play()"
   ]
  },
  {
   "cell_type": "code",
   "execution_count": 60,
   "id": "930d4410",
   "metadata": {},
   "outputs": [
    {
     "name": "stdout",
     "output_type": "stream",
     "text": [
      "human sleeps\n"
     ]
    }
   ],
   "source": [
    "class Human:\n",
    "    def work(self):\n",
    "        print(\"human works\")\n",
    "    def sleep(self):\n",
    "        print(\"human sleeps\")\n",
    "class Male:\n",
    "    def eat(self):\n",
    "        print(\"male eats\")\n",
    "    def sleep(self):\n",
    "        print(\"male sleeps\")\n",
    "class Boy(Human,Male): #order is important in multiple inheritance\n",
    "    pass\n",
    "b1=Boy()\n",
    "b1.sleep() # because we write human first in the Boy class that's why it takes the method of human class first so order is important\n",
    "# you can change the order in Boy class like (Male,Human) but this is not the appropriate approach"
   ]
  },
  {
   "cell_type": "code",
   "execution_count": 61,
   "id": "c25a3f5f",
   "metadata": {},
   "outputs": [
    {
     "name": "stdout",
     "output_type": "stream",
     "text": [
      "male sleeps\n",
      "human sleeps\n"
     ]
    }
   ],
   "source": [
    "class Human:\n",
    "    def work(self):\n",
    "        print(\"human works\")\n",
    "    def sleep(self):\n",
    "        print(\"human sleeps\")\n",
    "class Male:\n",
    "    def eat(self):\n",
    "        print(\"male eats\")\n",
    "    def sleep(self):\n",
    "        print(\"male sleeps\")\n",
    "class Boy(Human,Male): #order is important in multiple inheritance\n",
    "    pass\n",
    "b1 = Boy()\n",
    "Male.sleep(b1) # if you have same method in all the classes and you want to access particular class method then class_name.method_name(object_name)\n",
    "Human.sleep(b1)\n"
   ]
  },
  {
   "cell_type": "code",
   "execution_count": 62,
   "id": "6e8d26fc",
   "metadata": {},
   "outputs": [
    {
     "name": "stdout",
     "output_type": "stream",
     "text": [
      "boy sleeps\n",
      "male sleeps\n",
      "human sleeps\n",
      "[<class '__main__.Boy'>, <class '__main__.Human'>, <class '__main__.Male'>, <class 'object'>]\n"
     ]
    }
   ],
   "source": [
    "class Human:\n",
    "    def work(self):\n",
    "        print(\"human works\")\n",
    "    def sleep(self):\n",
    "        print(\"human sleeps\")\n",
    "class Male:\n",
    "    def eat(self):\n",
    "        print(\"male eats\")\n",
    "    def sleep(self):\n",
    "        print(\"male sleeps\")\n",
    "class Boy(Human,Male): #order is important in multiple inheritance\n",
    "    def play(self):\n",
    "        print(\"boy plays\")\n",
    "    def sleep(self):\n",
    "        print(\"boy sleeps\")\n",
    "    \n",
    "b1 = Boy()\n",
    "b1.sleep() #first it'll check its own method\n",
    "Male.sleep(b1) # if you have same method in all the classes and you want to access particular class method then class_name.method_name(object_name)\n",
    "Human.sleep(b1)\n",
    "#child class can access it's parent class's methods also, if all have same method name then what's gonna be the order is check using mro(method resolution order)\n",
    "print(Boy.mro())\n",
    "#here first search the method in Boy class, then Human then Male class"
   ]
  },
  {
   "cell_type": "code",
   "execution_count": 63,
   "id": "443942cd",
   "metadata": {},
   "outputs": [
    {
     "name": "stdout",
     "output_type": "stream",
     "text": [
      "male sleeps\n"
     ]
    }
   ],
   "source": [
    "#exercise\n",
    "class Human:\n",
    "    def work(self):\n",
    "        print(\"human works\")\n",
    "class Male:\n",
    "    def eat(self):\n",
    "        print(\"male eats\")\n",
    "    def sleep(self):\n",
    "        print(\"male sleeps\")\n",
    "class Boy(Human,Male): #order is important in multiple inheritance\n",
    "    def play(self):\n",
    "        print(\"boy plays\")\n",
    "    \n",
    "b2 = Boy()\n",
    "b2.sleep()\n"
   ]
  },
  {
   "cell_type": "code",
   "execution_count": 64,
   "id": "28035576",
   "metadata": {},
   "outputs": [
    {
     "name": "stdout",
     "output_type": "stream",
     "text": [
      "2\n"
     ]
    },
    {
     "ename": "AttributeError",
     "evalue": "'Boy' object has no attribute 'name'",
     "output_type": "error",
     "traceback": [
      "\u001b[1;31m---------------------------------------------------------------------------\u001b[0m",
      "\u001b[1;31mAttributeError\u001b[0m                            Traceback (most recent call last)",
      "Cell \u001b[1;32mIn[64], line 26\u001b[0m\n\u001b[0;32m     24\u001b[0m b1 \u001b[38;5;241m=\u001b[39m Boy() \n\u001b[0;32m     25\u001b[0m \u001b[38;5;28mprint\u001b[39m(b1\u001b[38;5;241m.\u001b[39mnum_eyes)\n\u001b[1;32m---> 26\u001b[0m \u001b[38;5;28mprint\u001b[39m(b1\u001b[38;5;241m.\u001b[39mname)\n",
      "\u001b[1;31mAttributeError\u001b[0m: 'Boy' object has no attribute 'name'"
     ]
    }
   ],
   "source": [
    "class Human:\n",
    "    def __init__(self):\n",
    "        self.num_eyes=2\n",
    "        self.num_nose =1\n",
    "    def work(self):\n",
    "        print(\"human works\")\n",
    "    def sleep(self):\n",
    "        print(\"human sleeps\")\n",
    "        \n",
    "class Male:\n",
    "    def __init__(self,name):\n",
    "        self.name = name\n",
    "    def eat(self):\n",
    "        print(\"male eats\")\n",
    "    def sleep(self):\n",
    "        print(\"male sleeps\")\n",
    "        \n",
    "class Boy(Human,Male): #order is important in multiple inheritance\n",
    "    def play(self):\n",
    "        print(\"boy plays\")\n",
    "    def sleep(self):\n",
    "        print(\"boy sleeps\")\n",
    "    \n",
    "b1 = Boy() \n",
    "print(b1.num_eyes)\n",
    "print(b1.name) #__init__ constructor is checked first at the child class, then by order(Human,Male)\n"
   ]
  },
  {
   "cell_type": "code",
   "execution_count": null,
   "id": "86614105",
   "metadata": {},
   "outputs": [],
   "source": [
    "class Human:\n",
    "    def __init__(self):\n",
    "        self.num_eyes=2\n",
    "        self.num_nose =1\n",
    "    def work(self):\n",
    "        print(\"human works\")\n",
    "    def sleep(self):\n",
    "        print(\"human sleeps\")\n",
    "        \n",
    "class Male:\n",
    "    def __init__(self,name):\n",
    "        self.name = name\n",
    "    def eat(self):\n",
    "        print(\"male eats\")\n",
    "    def sleep(self):\n",
    "        print(\"male sleeps\")\n",
    "        \n",
    "class Boy(Human,Male): \n",
    "    def __init__(self,name):\n",
    "        Male.__init__(self,name) #defining my own __init__ constructor here\n",
    "    def play(self):\n",
    "        print(\"boy plays\")\n",
    "    def sleep(self):\n",
    "        print(\"boy sleeps\")\n",
    "    \n",
    "b1 = Boy(\"yash\") \n",
    "print(b1.name)\n",
    "print(b1.num_eyes) #because we defined the parent.__init__ constructor in the child class"
   ]
  },
  {
   "cell_type": "code",
   "execution_count": null,
   "id": "48ac88ff",
   "metadata": {},
   "outputs": [],
   "source": [
    "class Human:\n",
    "    def __init__(self):\n",
    "        self.num_eyes=2\n",
    "        self.num_nose =1\n",
    "    def work(self):\n",
    "        print(\"human works\")\n",
    "    def sleep(self):\n",
    "        print(\"human sleeps\")\n",
    "        \n",
    "class Male:\n",
    "    def __init__(self,name):\n",
    "        self.name = name\n",
    "    def eat(self):\n",
    "        print(\"male eats\")\n",
    "    def sleep(self):\n",
    "        print(\"male sleeps\")\n",
    "        \n",
    "class Boy(Human,Male): \n",
    "    def __init__(self,name):\n",
    "        Human.__init__(self) #to access all the attributes and methods of both the parent classes\n",
    "        Male.__init__(self,name) \n",
    "    def play(self):\n",
    "        print(\"boy plays\")\n",
    "    def sleep(self):\n",
    "        print(\"boy sleeps\")\n",
    "    \n",
    "b1 = Boy(\"yash\") \n",
    "print(b1.name)\n",
    "print(b1.num_eyes)"
   ]
  },
  {
   "cell_type": "code",
   "execution_count": 67,
   "id": "08e7a514",
   "metadata": {},
   "outputs": [
    {
     "name": "stdout",
     "output_type": "stream",
     "text": [
      "yash\n",
      "2\n",
      "1\n",
      "python\n"
     ]
    }
   ],
   "source": [
    "class Human:\n",
    "    def __init__(self,num_heart):\n",
    "        self.num_eyes=2\n",
    "        self.num_nose =1\n",
    "        self.num_heart = num_heart\n",
    "    def work(self):\n",
    "        print(\"human works\")\n",
    "    def sleep(self):\n",
    "        print(\"human sleeps\")\n",
    "        \n",
    "class Male:\n",
    "    def __init__(self,name):\n",
    "        self.name = name\n",
    "    def eat(self):\n",
    "        print(\"male eats\")\n",
    "    def sleep(self):\n",
    "        print(\"male sleeps\")\n",
    "        \n",
    "class Boy(Human,Male): \n",
    "    def __init__(self,name,num_heart,language):\n",
    "        self.language = language\n",
    "        Human.__init__(self,num_heart) #to access all the attributes and methods of both the parent classes\n",
    "        Male.__init__(self,name) \n",
    "    def play(self):\n",
    "        print(\"boy plays\")\n",
    "    def sleep(self):\n",
    "        print(\"boy sleeps\")\n",
    "    \n",
    "b1 = Boy(\"yash\",1,\"python\") \n",
    "print(b1.name)\n",
    "print(b1.num_eyes)\n",
    "print(b1.num_heart)\n",
    "print(b1.language)"
   ]
  },
  {
   "cell_type": "code",
   "execution_count": 69,
   "id": "5c5c0129",
   "metadata": {},
   "outputs": [
    {
     "name": "stdout",
     "output_type": "stream",
     "text": [
      "yash\n",
      "2\n",
      "1\n",
      "python\n",
      "boy plays\n",
      "Hi! I'm yash and I work on python language.\n"
     ]
    }
   ],
   "source": [
    "#exercise\n",
    "class Human:\n",
    "    def __init__(self,num_heart):\n",
    "        self.num_eyes=2\n",
    "        self.num_nose =1\n",
    "        self.num_heart = num_heart\n",
    "    def work(self):\n",
    "        print(\"human works\")\n",
    "    def sleep(self):\n",
    "        print(\"human sleeps\")\n",
    "        \n",
    "class Male:\n",
    "    def __init__(self,name):\n",
    "        self.name = name\n",
    "    def eat(self):\n",
    "        print(\"male eats\")\n",
    "    def sleep(self):\n",
    "        print(\"male sleeps\")\n",
    "        \n",
    "class Boy(Human,Male): \n",
    "    def __init__(self,name,num_heart,language):\n",
    "        self.language = language\n",
    "        Human.__init__(self,num_heart) #to access all the attributes and methods of both the parent classes\n",
    "        Male.__init__(self,name) \n",
    "    def play(self):\n",
    "        print(\"boy plays\")\n",
    "    def sleep(self):\n",
    "        print(\"boy sleeps\")\n",
    "    def display(self):\n",
    "        print(f\"Hi! I'm {self.name} and I work on {self.language} language.\")\n",
    "    \n",
    "b1 = Boy(\"yash\",1,\"python\") \n",
    "print(b1.name)\n",
    "print(b1.num_eyes)\n",
    "print(b1.num_heart)\n",
    "print(b1.language)\n",
    "b1.play()\n",
    "b1.display()"
   ]
  },
  {
   "cell_type": "code",
   "execution_count": null,
   "id": "78f6cd5f",
   "metadata": {},
   "outputs": [],
   "source": []
  }
 ],
 "metadata": {
  "kernelspec": {
   "display_name": "Python 3 (ipykernel)",
   "language": "python",
   "name": "python3"
  },
  "language_info": {
   "codemirror_mode": {
    "name": "ipython",
    "version": 3
   },
   "file_extension": ".py",
   "mimetype": "text/x-python",
   "name": "python",
   "nbconvert_exporter": "python",
   "pygments_lexer": "ipython3",
   "version": "3.11.7"
  }
 },
 "nbformat": 4,
 "nbformat_minor": 5
}
