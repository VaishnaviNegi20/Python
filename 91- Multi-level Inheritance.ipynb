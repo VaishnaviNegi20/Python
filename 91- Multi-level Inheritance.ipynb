{
 "cells": [
  {
   "cell_type": "code",
   "execution_count": 13,
   "id": "c4b2c609",
   "metadata": {},
   "outputs": [
    {
     "name": "stdout",
     "output_type": "stream",
     "text": [
      "calling init from Human class \n",
      "calling init from Male class \n",
      "yash\n",
      "True\n",
      "True\n",
      "[<class '__main__.Boy'>, <class '__main__.Male'>, <class '__main__.Human'>, <class 'object'>]\n"
     ]
    },
    {
     "data": {
      "text/plain": [
       "[__main__.Boy, __main__.Male, __main__.Human, object]"
      ]
     },
     "execution_count": 13,
     "metadata": {},
     "output_type": "execute_result"
    }
   ],
   "source": [
    "class Human:\n",
    "    can_breath = True\n",
    "    def __init__(self,num_heart):\n",
    "        print(\"calling init from Human class \")\n",
    "        self.num_heart = num_heart\n",
    "        self.eyes = 2\n",
    "    def eat(self):\n",
    "        print(\"Human eats\")\n",
    "    def work(self):\n",
    "        print(\"Human works\")\n",
    "        \n",
    "class Male(Human):\n",
    "    def __init__(self, name):\n",
    "        print(\"calling init from Male class \")\n",
    "        self.name = name\n",
    "    def sleep(self):\n",
    "        print(\"male sleeps\")\n",
    "        \n",
    "class Boy(Male):\n",
    "    def __init__(self,heart, name, can_dance):\n",
    "        Human.__init__(self,heart)\n",
    "        Male.__init__(self,name)\n",
    "        self.knows_dancing = can_dance\n",
    "    def work(self):\n",
    "        #Human.work(self)\n",
    "        super().work()\n",
    "        print(\"boy works\")\n",
    "\n",
    "b1= Boy(1,\"yash\", True)\n",
    "print(b1.name)\n",
    "print(b1.can_breath)\n",
    "print(b1.knows_dancing)\n",
    "print(Boy.mro())\n",
    "Boy.mro() # object class is built-in class in python. If 0 __init__ constructure in the program then by-default the object class is called.\n"
   ]
  },
  {
   "cell_type": "code",
   "execution_count": null,
   "id": "8f63a293",
   "metadata": {},
   "outputs": [],
   "source": []
  }
 ],
 "metadata": {
  "kernelspec": {
   "display_name": "Python 3 (ipykernel)",
   "language": "python",
   "name": "python3"
  },
  "language_info": {
   "codemirror_mode": {
    "name": "ipython",
    "version": 3
   },
   "file_extension": ".py",
   "mimetype": "text/x-python",
   "name": "python",
   "nbconvert_exporter": "python",
   "pygments_lexer": "ipython3",
   "version": "3.11.7"
  }
 },
 "nbformat": 4,
 "nbformat_minor": 5
}
