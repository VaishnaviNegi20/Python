{
 "cells": [
  {
   "cell_type": "code",
   "execution_count": 8,
   "id": "a10010ba",
   "metadata": {},
   "outputs": [
    {
     "name": "stdout",
     "output_type": "stream",
     "text": [
      "human eats\n",
      "human eats\n"
     ]
    }
   ],
   "source": [
    "class Human:\n",
    "    def eat(self):\n",
    "        print(\"human eats\")\n",
    "class Male(Human):\n",
    "    def sing(self):\n",
    "        print(\"male sings\")\n",
    "class Female(Human):\n",
    "    pass\n",
    "f1 = Female()\n",
    "f1.eat()\n",
    "m1 = Male()\n",
    "m1.eat()"
   ]
  },
  {
   "cell_type": "code",
   "execution_count": 18,
   "id": "433f9fb5",
   "metadata": {},
   "outputs": [
    {
     "name": "stdout",
     "output_type": "stream",
     "text": [
      "human eats\n",
      "vaishnavi\n",
      "10\n",
      "human eats\n",
      "yash\n",
      "13\n"
     ]
    }
   ],
   "source": [
    "class Human:\n",
    "    def __init__(self,name,age):\n",
    "        self.name=name\n",
    "        self.age = age\n",
    "    def eat(self):\n",
    "        print(\"human eats\")\n",
    "class Male(Human):\n",
    "    def sing(self):\n",
    "        print(\"male sings\")\n",
    "class Female(Human):\n",
    "    def dance(self):\n",
    "        print(\"female dances\")\n",
    "f1 = Female(\"vaishnavi\",10)\n",
    "f1.eat()\n",
    "print(f1.name)\n",
    "print(f1.age)\n",
    "\n",
    "m1 = Male(\"yash\",13)\n",
    "m1.eat()\n",
    "print(m1.name)\n",
    "print(m1.age)"
   ]
  },
  {
   "cell_type": "code",
   "execution_count": 44,
   "id": "d6a84ae0",
   "metadata": {},
   "outputs": [
    {
     "name": "stdout",
     "output_type": "stream",
     "text": [
      "calling from Female class\n",
      "calling from Human class\n",
      "human works\n",
      "female works\n",
      "vaishnavi\n",
      "10\n",
      "python\n",
      "I'm vaishnavi and I'm 10 years old.\n",
      "I know python language.\n",
      "\n",
      "calling from Male class\n",
      "calling from Human class\n",
      "human works\n",
      "male works\n",
      "yash\n",
      "13\n",
      "india\n",
      "I'm yash and I'm 13 years old.\n",
      "I'm from india\n"
     ]
    }
   ],
   "source": [
    "class Human:\n",
    "    def __init__(self,name,age):\n",
    "        print(\"calling from Human class\")\n",
    "        self.name=name\n",
    "        self.age = age\n",
    "    def eat(self):\n",
    "        print(\"human eats\")\n",
    "    def work(self):\n",
    "        print(\"human works\")\n",
    "    def showDetails(self):\n",
    "        print(f\"I'm {self.name} and I'm {self.age} years old.\")\n",
    "        \n",
    "class Male(Human):\n",
    "    def __init__(self,name,age,location):\n",
    "        print(\"calling from Male class\")\n",
    "        super().__init__(name,age)  # or use this, Human.__init__(self,name,age)\n",
    "        self.location = location\n",
    "    def sing(self):\n",
    "        print(\"male sings\")\n",
    "    def work(self):\n",
    "        Human.work(self)  # or use this, super().work()\n",
    "        print(\"male works\")\n",
    "    def showDetailsM(self):\n",
    "        super().showDetails()  # ar use this, Human.showDetails(self)\n",
    "        print(f\"I'm from {self.location}\")\n",
    "        \n",
    "        \n",
    "class Female(Human):\n",
    "    def __init__(self,name,age,language):\n",
    "        print(\"calling from Female class\")\n",
    "        super().__init__(name,age)  #or use this, super().__init__(name,age)\n",
    "        self.language = language\n",
    "    def dance(self):\n",
    "        print(\"female dances\")\n",
    "    def work(self):\n",
    "        super().work()    #or use this, Human.work(self)\n",
    "        print(\"female works\")\n",
    "    def showDetailsF(self):\n",
    "        Human.showDetails(self) # or use this, super().showDetails()\n",
    "        print(f\"I know {self.language} language.\")\n",
    "           \n",
    "f1 = Female(\"vaishnavi\",10,\"python\")\n",
    "f1.work()\n",
    "print(f1.name)\n",
    "print(f1.age)\n",
    "print(f1.language)\n",
    "f1.showDetailsF()\n",
    "print()\n",
    "m1 = Male(\"yash\",13,\"india\")\n",
    "m1.work()\n",
    "print(m1.name)\n",
    "print(m1.age)\n",
    "print(m1.location)\n",
    "m1.showDetailsM()"
   ]
  },
  {
   "cell_type": "code",
   "execution_count": 60,
   "id": "f984d7fb",
   "metadata": {},
   "outputs": [
    {
     "name": "stdout",
     "output_type": "stream",
     "text": [
      "calling from Student class\n",
      "calling from Person class\n",
      "Dhairya\n",
      "90\n",
      "I'm Dhairya,a student in college.\n",
      "My college attendance is 90%\n",
      "I'm in computer science and learning python.\n",
      "\n",
      "calling from Faculty class\n",
      "calling from Person class\n",
      "Mahesh\n",
      "78\n",
      "I'm Mahesh, teaching in college\n",
      "My college attendance is 78%\n",
      "I'm teaching python in the college.\n"
     ]
    }
   ],
   "source": [
    "#assignment \n",
    "class Person:\n",
    "    def __init__(self,name,attendance):\n",
    "        print(\"calling from Person class\")\n",
    "        self.name = name\n",
    "        self.attendance = attendance\n",
    "    def present_in_college(self):\n",
    "        print(f\"My college attendance is {self.attendance}%\")\n",
    "        \n",
    "class Student(Person):\n",
    "    def __init__(self, name, attendance, student_id,course_name, subject_name):\n",
    "        print(\"calling from Student class\")\n",
    "        super().__init__(name,attendance)\n",
    "        self.student_id = student_id\n",
    "        self.course_name = course_name\n",
    "        self.subject_name = subject_name\n",
    "    def present_in_college(self):\n",
    "        print(f\"I'm {self.name},a student in college.\")\n",
    "        Person.present_in_college(self)\n",
    "    def subject_learning(self):\n",
    "        print(f\"I'm in {self.course_name} and learning {self.subject_name}.\")\n",
    "        \n",
    "class Faculty(Person):\n",
    "    def __init__(self, name, attendance, faculty_id,subject_name):\n",
    "        print(\"calling from Faculty class\")\n",
    "        super().__init__(name,attendance)\n",
    "        self.faculty_id = faculty_id\n",
    "        self.subject_name = subject_name\n",
    "    def present_in_college(self):\n",
    "        print(f\"I'm {self.name}, teaching in college\")\n",
    "        Person.present_in_college(self)\n",
    "    def subject_teaching(self):\n",
    "        print(f\"I'm teaching {self.subject_name} in the college.\")\n",
    "        \n",
    "s1 = Student(\"Dhairya\", 90, 1,\"computer science\", \"python\")\n",
    "print(s1.name)\n",
    "print(s1.attendance)\n",
    "s1.present_in_college()\n",
    "s1.subject_learning()\n",
    "\n",
    "print()\n",
    "f1 = Faculty(\"Mahesh\",78,1,\"python\")\n",
    "print(f1.name)\n",
    "print(f1.attendance)\n",
    "f1.present_in_college()\n",
    "f1.subject_teaching()"
   ]
  },
  {
   "cell_type": "code",
   "execution_count": null,
   "id": "3d18e689",
   "metadata": {},
   "outputs": [],
   "source": []
  }
 ],
 "metadata": {
  "kernelspec": {
   "display_name": "Python 3 (ipykernel)",
   "language": "python",
   "name": "python3"
  },
  "language_info": {
   "codemirror_mode": {
    "name": "ipython",
    "version": 3
   },
   "file_extension": ".py",
   "mimetype": "text/x-python",
   "name": "python",
   "nbconvert_exporter": "python",
   "pygments_lexer": "ipython3",
   "version": "3.11.7"
  }
 },
 "nbformat": 4,
 "nbformat_minor": 5
}
