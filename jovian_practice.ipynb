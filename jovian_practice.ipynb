{
 "cells": [
  {
   "cell_type": "code",
   "execution_count": 2,
   "id": "36be12f0",
   "metadata": {},
   "outputs": [
    {
     "name": "stdout",
     "output_type": "stream",
     "text": [
      "enter value for a in integer form5\n",
      "enter value for b in integer form6\n",
      "a is 5\n",
      "b is 6\n"
     ]
    }
   ],
   "source": [
    "a = int(input(\"enter value for a in integer form\"))\n",
    "b = int(input(\"enter value for b in integer form\"))\n",
    "\n",
    "print(\"a is\",a)\n",
    "print(\"b is\",b)"
   ]
  },
  {
   "cell_type": "markdown",
   "id": "2f2e6987",
   "metadata": {},
   "source": [
    "\n",
    "# Naming of Identifiers(variable names)\n",
    "    Python Class names start with an uppercase letter. All other identifiers start with a lowercase letter.\n",
    "\n",
    "    Starting an identifier with a single leading underscore indicates that the identifier is private identifier.\n",
    "\n",
    "    Starting an identifier with two leading underscores indicates a strongly private identifier.\n",
    "\n",
    "    If the identifier also ends with two trailing underscores, the identifier is a language-defined special name.\n"
   ]
  },
  {
   "cell_type": "code",
   "execution_count": 9,
   "id": "76fda234",
   "metadata": {},
   "outputs": [
    {
     "name": "stdout",
     "output_type": "stream",
     "text": [
      "123\n"
     ]
    }
   ],
   "source": [
    "total = \"1\" + \\\n",
    "        \"2\" + \\\n",
    "        \"3\"\n",
    "print(total)"
   ]
  },
  {
   "cell_type": "code",
   "execution_count": 10,
   "id": "9e257798",
   "metadata": {},
   "outputs": [
    {
     "name": "stdout",
     "output_type": "stream",
     "text": [
      "This is a paragraph. It is\n",
      " made up of multiple lines and sentences.\n"
     ]
    }
   ],
   "source": [
    "paragraph = \"\"\"This is a paragraph. It is\n",
    " made up of multiple lines and sentences.\"\"\"\n",
    "print (paragraph)"
   ]
  },
  {
   "cell_type": "code",
   "execution_count": 14,
   "id": "b10689f8",
   "metadata": {},
   "outputs": [
    {
     "name": "stdout",
     "output_type": "stream",
     "text": [
      "H\n",
      "llo\n",
      "llo \n",
      "llo W\n",
      "llo World!\n",
      "Hello World!Hello World!Hello World!\n",
      "Hello World!It's me\n"
     ]
    }
   ],
   "source": [
    "str = 'Hello World!'\n",
    "print(str[0])\n",
    "print(str[2:5])\n",
    "print(str[2:6])\n",
    "print(str[2:7])\n",
    "print(str[2:])\n",
    "print(str*3)\n",
    "print(str + \"It's me\")"
   ]
  },
  {
   "cell_type": "code",
   "execution_count": 22,
   "id": "f0160add",
   "metadata": {},
   "outputs": [
    {
     "ename": "TypeError",
     "evalue": "'tuple' object does not support item assignment",
     "output_type": "error",
     "traceback": [
      "\u001b[1;31m---------------------------------------------------------------------------\u001b[0m",
      "\u001b[1;31mTypeError\u001b[0m                                 Traceback (most recent call last)",
      "\u001b[1;32m~\\AppData\\Local\\Temp\\ipykernel_9764\\2378119889.py\u001b[0m in \u001b[0;36m<module>\u001b[1;34m\u001b[0m\n\u001b[0;32m      1\u001b[0m \u001b[0ma_tuple\u001b[0m \u001b[1;33m=\u001b[0m \u001b[1;33m(\u001b[0m \u001b[1;34m'abcd'\u001b[0m\u001b[1;33m,\u001b[0m \u001b[1;36m786\u001b[0m \u001b[1;33m,\u001b[0m \u001b[1;36m2.23\u001b[0m\u001b[1;33m,\u001b[0m \u001b[1;34m'john'\u001b[0m\u001b[1;33m,\u001b[0m \u001b[1;36m70.2\u001b[0m  \u001b[1;33m)\u001b[0m\u001b[1;33m\u001b[0m\u001b[1;33m\u001b[0m\u001b[0m\n\u001b[0;32m      2\u001b[0m \u001b[0mlist\u001b[0m \u001b[1;33m=\u001b[0m \u001b[1;33m[\u001b[0m \u001b[1;34m'abcd'\u001b[0m\u001b[1;33m,\u001b[0m \u001b[1;36m786\u001b[0m \u001b[1;33m,\u001b[0m \u001b[1;36m2.23\u001b[0m\u001b[1;33m,\u001b[0m \u001b[1;34m'john'\u001b[0m\u001b[1;33m,\u001b[0m \u001b[1;36m70.2\u001b[0m  \u001b[1;33m]\u001b[0m\u001b[1;33m\u001b[0m\u001b[1;33m\u001b[0m\u001b[0m\n\u001b[1;32m----> 3\u001b[1;33m \u001b[0ma_tuple\u001b[0m\u001b[1;33m[\u001b[0m\u001b[1;36m2\u001b[0m\u001b[1;33m]\u001b[0m \u001b[1;33m=\u001b[0m \u001b[1;36m1000\u001b[0m    \u001b[1;31m# Invalid syntax with tuple bcz tuple doesn't support item assignment\u001b[0m\u001b[1;33m\u001b[0m\u001b[1;33m\u001b[0m\u001b[0m\n\u001b[0m\u001b[0;32m      4\u001b[0m \u001b[0mlist\u001b[0m\u001b[1;33m[\u001b[0m\u001b[1;36m2\u001b[0m\u001b[1;33m]\u001b[0m \u001b[1;33m=\u001b[0m \u001b[1;36m1000\u001b[0m     \u001b[1;31m# Valid syntax with list\u001b[0m\u001b[1;33m\u001b[0m\u001b[1;33m\u001b[0m\u001b[0m\n",
      "\u001b[1;31mTypeError\u001b[0m: 'tuple' object does not support item assignment"
     ]
    }
   ],
   "source": [
    "a_tuple = ( 'abcd', 786 , 2.23, 'john', 70.2  )\n",
    "list = [ 'abcd', 786 , 2.23, 'john', 70.2  ]\n",
    "a_tuple[2] = 1000    # Invalid syntax with tuple bcz tuple doesn't support item assignment\n",
    "list[2] = 1000     # Valid syntax with list"
   ]
  },
  {
   "cell_type": "code",
   "execution_count": 1,
   "id": "21e604d2",
   "metadata": {},
   "outputs": [
    {
     "data": {
      "text/plain": [
       "'c'"
      ]
     },
     "execution_count": 1,
     "metadata": {},
     "output_type": "execute_result"
    }
   ],
   "source": [
    ">>> my_tuple = ('a', 'b', 'c', 'd', 'e')\n",
    ">>> my_tuple[2]  # Press Enter after typing this"
   ]
  },
  {
   "cell_type": "code",
   "execution_count": 24,
   "id": "4a941c27",
   "metadata": {},
   "outputs": [
    {
     "name": "stdout",
     "output_type": "stream",
     "text": [
      "True\n"
     ]
    }
   ],
   "source": [
    "a=9\n",
    "print(bool(a))"
   ]
  },
  {
   "cell_type": "code",
   "execution_count": 3,
   "id": "5cf8b3ce",
   "metadata": {},
   "outputs": [
    {
     "name": "stdout",
     "output_type": "stream",
     "text": [
      "var1 is : False\n",
      "var2 is : True\n"
     ]
    }
   ],
   "source": [
    "var1=True \n",
    "var2 = var1\n",
    "var1 = False\n",
    "print(\"var1 is : {}\".format(var1))\n",
    "print(\"var2 is : {}\".format(var2))\n",
    "#immutable bool"
   ]
  },
  {
   "cell_type": "code",
   "execution_count": 6,
   "id": "f3a6a22d",
   "metadata": {
    "scrolled": true
   },
   "outputs": [
    {
     "name": "stdout",
     "output_type": "stream",
     "text": [
      "vaishnavi\n",
      "33\n",
      "<class 'int'>\n",
      "0\n",
      "1\n",
      "2\n",
      "3\n",
      "4\n",
      "5\n",
      "2\n",
      "3\n",
      "4\n",
      "5\n",
      "2\n",
      "5\n",
      "6\n",
      "5\n",
      "4\n",
      "3\n",
      "welcome\n",
      "None\n",
      "welcome\n",
      "9\n",
      "welcome\n",
      "xyz\n",
      "var1 is : False\n",
      "var2 is : True\n",
      "hence int float tuple bool are immutable objects \n",
      "[1, 3, 4, 5] [1, 3, 4, 5]\n",
      "[22, 3, 4, 5] [22, 3, 4, 5]\n",
      "{1, 3, 4, 5} {1, 3, 4, 5}\n",
      "{1, 3, 4, 5, 55} {1, 3, 4, 5, 55}\n",
      "{'name': 'vaishnavi', 'surname': 'negi'} {'name': 'vaishnavi', 'surname': 'negi'}\n",
      "{'name': 'yashodhan', 'surname': 'negi'} {'name': 'yashodhan', 'surname': 'negi'}\n",
      "   sales  profit\n",
      "0   2000      40\n",
      "1   4000      50\n",
      "2   5000      60\n",
      "3   6000      70\n",
      "0    22\n",
      "1     3\n",
      "2     4\n",
      "3     5\n",
      "dtype: int64\n"
     ]
    },
    {
     "data": {
      "text/plain": [
       "pandas.core.series.Series"
      ]
     },
     "execution_count": 6,
     "metadata": {},
     "output_type": "execute_result"
    }
   ],
   "source": [
    "#practice python basics bepec 1&2 copy. \n",
    "#execute code by copying lines\n",
    "\n",
    "print(\"vaishnavi\")\n",
    "\n",
    "a=33\n",
    "print(a)\n",
    "print(type(a))\n",
    "\n",
    "type(a)\n",
    "\n",
    "a = range(6)\n",
    "for i in a:\n",
    "    print(i)\n",
    "\n",
    "a=range(2,6)\n",
    "for i in a:\n",
    "    print(i)\n",
    "\n",
    "a=range(2,6,3)\n",
    "for i in a:\n",
    "    print(i)\n",
    "\n",
    "a=range(2,6,-1)\n",
    "for i in a:\n",
    "    print(i)\n",
    "\n",
    "a=range(6,2,-1)\n",
    "for i in a:\n",
    "    print(i)\n",
    "\n",
    "type(a)\n",
    "\n",
    "def test():\n",
    "    print(\"welcome\")\n",
    "    return \n",
    "y = test()\n",
    "print(y)\n",
    "    \n",
    "\n",
    "def test():\n",
    "    print(\"welcome\")\n",
    "    return 9\n",
    "y = test()\n",
    "print(y)\n",
    "    \n",
    "\n",
    "def test():\n",
    "    print(\"welcome\")\n",
    "    return \"xyz\" \n",
    "y = test()\n",
    "print(y)\n",
    "    \n",
    "\n",
    "a= 23\n",
    "b = 5.5\n",
    "c = 3+6j\n",
    "d = \"asdfg\"\n",
    "e = True\n",
    "f = (25, 20.22,\"fdf\",[\"a\",\"rest\",\"good\"])\n",
    "\n",
    "id(a)\n",
    "\n",
    "id(b),id(c),id(d),id(e),id(f)\n",
    "\n",
    "type(a),type(b),type(c),type(d),type(e),type(f)\n",
    "\n",
    "d=100\n",
    "id(d)\n",
    "\n",
    "d=4\n",
    "id(d)\n",
    "\n",
    "d\n",
    "\n",
    "id(d)\n",
    "\n",
    "var1 = 8\n",
    "\n",
    "var2 =var1\n",
    "\n",
    "var2\n",
    "\n",
    "var1 = 3\n",
    "\n",
    "var2\n",
    "\n",
    "var1=True \n",
    "var2 = var1\n",
    "var1 = False\n",
    "print(\"var1 is : {}\".format(var1))\n",
    "print(\"var2 is : {}\".format(var2))\n",
    "\n",
    "\n",
    "print(\"hence {} {} {} {} are immutable objects \".format(\"int\", \"float\",\"tuple\",\"bool\"))\n",
    "\n",
    "#list, dict, set and bytearray are mutable objects.\n",
    "\n",
    "list1 = [1,3,4,5]\n",
    "list2 = list1\n",
    "print(list1,list2)\n",
    "list1[0] = 22\n",
    "print(list1,list2)\n",
    "\n",
    "set1 = {1,1,3,4,5,5}\n",
    "set2 = set1\n",
    "print(set1,set2)\n",
    "set1.add(55)\n",
    "print(set1,set2)\n",
    "\n",
    "dict1 = {\"name\":\"vaishnavi\", \"surname\":\"negi\"}\n",
    "dict2 = dict1\n",
    "print(dict1,dict2)\n",
    "dict1[\"name\"] = \"yashodhan\"\n",
    "print(dict1,dict2)\n",
    "\n",
    "\n",
    "d = { \"sales\": (2000,4000,5000,6000), 'profit': [40,50,60,70]}\n",
    "\n",
    "type(d)\n",
    "\n",
    "import pandas as pd\n",
    "df = pd.DataFrame(d)\n",
    "print(df)\n",
    "\n",
    "df[\"profit\"].max()\n",
    "\n",
    "import pandas as pd\n",
    "h = pd.Series(list1)\n",
    "print(h)\n",
    "\n",
    "type(h)\n",
    "\n"
   ]
  },
  {
   "cell_type": "code",
   "execution_count": 24,
   "id": "7a7a3731",
   "metadata": {},
   "outputs": [
    {
     "name": "stdout",
     "output_type": "stream",
     "text": [
      "enter a 2 digit number : 35\n",
      "sum of digits of a is 8\n"
     ]
    }
   ],
   "source": [
    "a = input(\"enter a 2 digit number : \")\n",
    "b = int(a[0])\n",
    "c = int(a[1])\n",
    "s = b + c\n",
    "print(\"sum of digits of a is\",s)"
   ]
  },
  {
   "cell_type": "code",
   "execution_count": 11,
   "id": "0fbe9bff",
   "metadata": {},
   "outputs": [
    {
     "data": {
      "text/plain": [
       "'12'"
      ]
     },
     "execution_count": 11,
     "metadata": {},
     "output_type": "execute_result"
    }
   ],
   "source": []
  },
  {
   "cell_type": "code",
   "execution_count": 12,
   "id": "e8e36028",
   "metadata": {},
   "outputs": [
    {
     "data": {
      "text/plain": [
       "str"
      ]
     },
     "execution_count": 12,
     "metadata": {},
     "output_type": "execute_result"
    }
   ],
   "source": []
  },
  {
   "cell_type": "code",
   "execution_count": 18,
   "id": "5ad7cb90",
   "metadata": {},
   "outputs": [
    {
     "name": "stdout",
     "output_type": "stream",
     "text": [
      "1\n"
     ]
    },
    {
     "data": {
      "text/plain": [
       "int"
      ]
     },
     "execution_count": 18,
     "metadata": {},
     "output_type": "execute_result"
    }
   ],
   "source": []
  },
  {
   "cell_type": "code",
   "execution_count": 19,
   "id": "0a682407",
   "metadata": {},
   "outputs": [
    {
     "name": "stdout",
     "output_type": "stream",
     "text": [
      "2\n"
     ]
    },
    {
     "data": {
      "text/plain": [
       "int"
      ]
     },
     "execution_count": 19,
     "metadata": {},
     "output_type": "execute_result"
    }
   ],
   "source": []
  },
  {
   "cell_type": "code",
   "execution_count": 20,
   "id": "0a84dc59",
   "metadata": {},
   "outputs": [
    {
     "name": "stdout",
     "output_type": "stream",
     "text": [
      "3\n"
     ]
    }
   ],
   "source": []
  },
  {
   "cell_type": "code",
   "execution_count": null,
   "id": "3a4be24a",
   "metadata": {},
   "outputs": [],
   "source": []
  }
 ],
 "metadata": {
  "kernelspec": {
   "display_name": "Python 3 (ipykernel)",
   "language": "python",
   "name": "python3"
  },
  "language_info": {
   "codemirror_mode": {
    "name": "ipython",
    "version": 3
   },
   "file_extension": ".py",
   "mimetype": "text/x-python",
   "name": "python",
   "nbconvert_exporter": "python",
   "pygments_lexer": "ipython3",
   "version": "3.9.13"
  }
 },
 "nbformat": 4,
 "nbformat_minor": 5
}
